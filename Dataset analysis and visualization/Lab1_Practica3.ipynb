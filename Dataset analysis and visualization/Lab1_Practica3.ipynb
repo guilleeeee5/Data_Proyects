{
 "cells": [
  {
   "attachments": {},
   "cell_type": "markdown",
   "metadata": {},
   "source": [
    "# LABORATORIO 1 - Práctica 3: Preparación y visualización de Datos\n",
    "---\n",
    "<img src=\"ufv.png\" width=\"100px\" height=\"100px\"></img> \n",
    "### Integrantes: \n",
    "* Julián Prieto Velasco   \n",
    "* Guillermo Ramírez Cárdenas\n",
    "* Pedro Paniagua Falo     \n",
    "* Javier Muñoz Rojas\n",
    "\n",
    "---"
   ]
  },
  {
   "attachments": {},
   "cell_type": "markdown",
   "metadata": {},
   "source": [
    "## **Índice**\n",
    "1. [Introducción](#id0)\n",
    "1. [Ejercicio 1](#id1)\n",
    "1. [Ejercicio 2](#id2)\n",
    "1. [Ejercicio 3](#id3)\n",
    "1. [Ejercicio 4](#id4)"
   ]
  },
  {
   "attachments": {},
   "cell_type": "markdown",
   "metadata": {},
   "source": [
    "<div id='id0'/>\n",
    "\n",
    "## *Introducción*\n",
    "\n",
    "---\n",
    "En esta parte realizamos un análisis de componentes, ya que hay ciertos casos en los que  las  variables  no  se  pueden  representar  visualmente  debido  a  que  necesitaríamos  varias dimensiones  para ello. Utilizaremos esta metodología para a partir de un set multidimensional podemos  transformarlo  para  poder  explicar  gran  parte  de  la  información  en  2  o  3  dimensiones.\n"
   ]
  },
  {
   "cell_type": "markdown",
   "metadata": {},
   "source": [
    "### Librerias"
   ]
  },
  {
   "cell_type": "code",
   "execution_count": 61,
   "metadata": {},
   "outputs": [],
   "source": [
    "#importación de librerias\n",
    "import csv\n",
    "import pandas as pd\n",
    "import re\n",
    "import numpy as np\n",
    "import matplotlib.pyplot as plt\n",
    "from sklearn.preprocessing import StandardScaler\n"
   ]
  },
  {
   "cell_type": "markdown",
   "metadata": {},
   "source": [
    "### Lectura del CSV"
   ]
  },
  {
   "cell_type": "code",
   "execution_count": 62,
   "metadata": {},
   "outputs": [
    {
     "data": {
      "text/html": [
       "<div>\n",
       "<style scoped>\n",
       "    .dataframe tbody tr th:only-of-type {\n",
       "        vertical-align: middle;\n",
       "    }\n",
       "\n",
       "    .dataframe tbody tr th {\n",
       "        vertical-align: top;\n",
       "    }\n",
       "\n",
       "    .dataframe thead th {\n",
       "        text-align: right;\n",
       "    }\n",
       "</style>\n",
       "<table border=\"1\" class=\"dataframe\">\n",
       "  <thead>\n",
       "    <tr style=\"text-align: right;\">\n",
       "      <th></th>\n",
       "      <th>Pokémon</th>\n",
       "      <th>Tipo</th>\n",
       "      <th>PS</th>\n",
       "      <th>Ataque</th>\n",
       "      <th>Defensa</th>\n",
       "      <th>Ataque especial</th>\n",
       "      <th>Defensa especial</th>\n",
       "      <th>Velocidad</th>\n",
       "    </tr>\n",
       "  </thead>\n",
       "  <tbody>\n",
       "    <tr>\n",
       "      <th>0</th>\n",
       "      <td>TYPHLOSION</td>\n",
       "      <td>Fuego</td>\n",
       "      <td>2</td>\n",
       "      <td>3</td>\n",
       "      <td>2</td>\n",
       "      <td>4</td>\n",
       "      <td>2</td>\n",
       "      <td>4</td>\n",
       "    </tr>\n",
       "    <tr>\n",
       "      <th>1</th>\n",
       "      <td>PONYTA</td>\n",
       "      <td>Fuego</td>\n",
       "      <td>2</td>\n",
       "      <td>3</td>\n",
       "      <td>2</td>\n",
       "      <td>2</td>\n",
       "      <td>2</td>\n",
       "      <td>3</td>\n",
       "    </tr>\n",
       "    <tr>\n",
       "      <th>2</th>\n",
       "      <td>TORKOAL</td>\n",
       "      <td>Fuego</td>\n",
       "      <td>2</td>\n",
       "      <td>3</td>\n",
       "      <td>4</td>\n",
       "      <td>3</td>\n",
       "      <td>2</td>\n",
       "      <td>1</td>\n",
       "    </tr>\n",
       "    <tr>\n",
       "      <th>3</th>\n",
       "      <td>ARCANINE</td>\n",
       "      <td>Fuego</td>\n",
       "      <td>3</td>\n",
       "      <td>5</td>\n",
       "      <td>3</td>\n",
       "      <td>4</td>\n",
       "      <td>3</td>\n",
       "      <td>4</td>\n",
       "    </tr>\n",
       "    <tr>\n",
       "      <th>4</th>\n",
       "      <td>STARMIE</td>\n",
       "      <td>Agua</td>\n",
       "      <td>2</td>\n",
       "      <td>3</td>\n",
       "      <td>3</td>\n",
       "      <td>4</td>\n",
       "      <td>2</td>\n",
       "      <td>4</td>\n",
       "    </tr>\n",
       "    <tr>\n",
       "      <th>5</th>\n",
       "      <td>PALKIA</td>\n",
       "      <td>Agua</td>\n",
       "      <td>3</td>\n",
       "      <td>4</td>\n",
       "      <td>3</td>\n",
       "      <td>5</td>\n",
       "      <td>3</td>\n",
       "      <td>4</td>\n",
       "    </tr>\n",
       "    <tr>\n",
       "      <th>6</th>\n",
       "      <td>MILOTIC</td>\n",
       "      <td>Agua</td>\n",
       "      <td>3</td>\n",
       "      <td>2</td>\n",
       "      <td>2</td>\n",
       "      <td>4</td>\n",
       "      <td>3</td>\n",
       "      <td>3</td>\n",
       "    </tr>\n",
       "    <tr>\n",
       "      <th>7</th>\n",
       "      <td>AZUMARILL</td>\n",
       "      <td>Agua</td>\n",
       "      <td>3</td>\n",
       "      <td>2</td>\n",
       "      <td>2</td>\n",
       "      <td>2</td>\n",
       "      <td>2</td>\n",
       "      <td>2</td>\n",
       "    </tr>\n",
       "    <tr>\n",
       "      <th>8</th>\n",
       "      <td>LEAFEON</td>\n",
       "      <td>Planta</td>\n",
       "      <td>2</td>\n",
       "      <td>4</td>\n",
       "      <td>4</td>\n",
       "      <td>2</td>\n",
       "      <td>2</td>\n",
       "      <td>3</td>\n",
       "    </tr>\n",
       "    <tr>\n",
       "      <th>9</th>\n",
       "      <td>ABOMASNOW</td>\n",
       "      <td>Planta</td>\n",
       "      <td>3</td>\n",
       "      <td>3</td>\n",
       "      <td>2</td>\n",
       "      <td>3</td>\n",
       "      <td>2</td>\n",
       "      <td>2</td>\n",
       "    </tr>\n",
       "  </tbody>\n",
       "</table>\n",
       "</div>"
      ],
      "text/plain": [
       "      Pokémon    Tipo  PS  Ataque  Defensa  Ataque especial  Defensa especial  \\\n",
       "0  TYPHLOSION   Fuego   2       3        2                4                 2   \n",
       "1      PONYTA   Fuego   2       3        2                2                 2   \n",
       "2     TORKOAL   Fuego   2       3        4                3                 2   \n",
       "3    ARCANINE   Fuego   3       5        3                4                 3   \n",
       "4     STARMIE    Agua   2       3        3                4                 2   \n",
       "5      PALKIA    Agua   3       4        3                5                 3   \n",
       "6     MILOTIC    Agua   3       2        2                4                 3   \n",
       "7   AZUMARILL    Agua   3       2        2                2                 2   \n",
       "8     LEAFEON  Planta   2       4        4                2                 2   \n",
       "9   ABOMASNOW  Planta   3       3        2                3                 2   \n",
       "\n",
       "   Velocidad  \n",
       "0          4  \n",
       "1          3  \n",
       "2          1  \n",
       "3          4  \n",
       "4          4  \n",
       "5          4  \n",
       "6          3  \n",
       "7          2  \n",
       "8          3  \n",
       "9          2  "
      ]
     },
     "execution_count": 62,
     "metadata": {},
     "output_type": "execute_result"
    }
   ],
   "source": [
    "#lectura del CSV\n",
    "Pokemon_Dataset = pd.read_csv('pokemon.csv')\n",
    "#dataset\n",
    "Pokemon_Dataset.head(10)"
   ]
  },
  {
   "attachments": {},
   "cell_type": "markdown",
   "metadata": {},
   "source": [
    "<div id='id1'>\n",
    "\n",
    "### *Ejercicio 1*\n",
    "\n",
    "---\n",
    "Primero estandarizaremos los datos como nos pide el enunciado, para que las diferencias de rango no supongan un problema a la hora de procesar la información.\n",
    "\n",
    "#### Estandarizado de datos"
   ]
  },
  {
   "cell_type": "code",
   "execution_count": 63,
   "metadata": {},
   "outputs": [
    {
     "name": "stdout",
     "output_type": "stream",
     "text": [
      "[[-0.32616404  0.05431254 -0.75        0.56415195 -0.5         1.03797547]\n",
      " [-0.32616404  0.05431254 -0.75       -1.1717002  -0.5         0.1353881 ]\n",
      " [-0.32616404  0.05431254  1.75       -0.30377413 -0.5        -1.66978662]\n",
      " [ 0.97849211  2.22681433  0.5         0.56415195  0.75        1.03797547]\n",
      " [-0.32616404  0.05431254  0.5         0.56415195 -0.5         1.03797547]\n",
      " [ 0.97849211  1.14056344  0.5         1.43207802  0.75        1.03797547]\n",
      " [ 0.97849211 -1.03193835 -0.75        0.56415195  0.75        0.1353881 ]\n",
      " [ 0.97849211 -1.03193835 -0.75       -1.1717002  -0.5        -0.76719926]\n",
      " [-0.32616404  1.14056344  1.75       -1.1717002  -0.5         0.1353881 ]\n",
      " [ 0.97849211  0.05431254 -0.75       -0.30377413 -0.5        -0.76719926]\n",
      " [-1.63082018 -2.11818924 -0.75       -1.1717002  -1.75       -1.66978662]\n",
      " [-0.32616404  1.14056344 -0.75       -1.1717002  -0.5         0.1353881 ]\n",
      " [-0.32616404 -1.03193835 -0.75        0.56415195  0.75        1.94056283]\n",
      " [-0.32616404  0.05431254  0.5         1.43207802 -0.5        -0.76719926]\n",
      " [-1.63082018 -1.03193835 -2.         -1.1717002  -1.75        0.1353881 ]\n",
      " [ 0.97849211  0.05431254  0.5         1.43207802  2.          0.1353881 ]\n",
      " [-1.63082018  0.05431254  1.75       -1.1717002   2.         -0.76719926]\n",
      " [ 2.28314826  1.14056344  0.5         0.56415195  0.75        0.1353881 ]\n",
      " [-0.32616404  0.05431254  0.5        -0.30377413  0.75       -1.66978662]\n",
      " [-0.32616404 -1.03193835 -0.75        1.43207802 -0.5         1.03797547]]\n"
     ]
    }
   ],
   "source": [
    "# Seleccionar solo las columnas que quieres estandarizar\n",
    "Pokemon_estand = Pokemon_Dataset[['PS', 'Ataque', 'Defensa', 'Ataque especial', 'Defensa especial', 'Velocidad']]\n",
    "\n",
    "# Instanciar un objeto StandardScaler\n",
    "scaler = StandardScaler()\n",
    "\n",
    "# Ajustar el objeto StandardScaler a los datos seleccionados\n",
    "scaler.fit(Pokemon_estand)\n",
    "\n",
    "# Transformar los datos seleccionados con el objeto StandardScaler\n",
    "Pokemon_Dataset_Final = scaler.transform(Pokemon_estand)\n",
    "\n",
    "# Convertir la matriz resultante en un DataFrame\n",
    "Pokemon_Dataset_Final1 = pd.DataFrame(Pokemon_Dataset_Final, columns=Pokemon_estand.columns)\n",
    "print(Pokemon_Dataset_Final)"
   ]
  },
  {
   "attachments": {},
   "cell_type": "markdown",
   "metadata": {},
   "source": [
    "<div id='id2'>\n",
    "\n",
    "### *Ejercicio 2*\n",
    "\n",
    "---\n",
    "\n",
    "A partir de los datos del ejercicio anterior, crearemos la matriz de covarianza mediante el método \"cov\", dónde se utiliza la matriz traspuesta para poder obtener después los correctos autovalores y los autovectores.\n",
    "### Cálculo la matriz de covarianza para obtener los autovalores y autovectores"
   ]
  },
  {
   "cell_type": "code",
   "execution_count": 64,
   "metadata": {},
   "outputs": [],
   "source": [
    "# Calcular la matriz de covarianza\n",
    "matriz_covarianza = np.cov(Pokemon_Dataset_Final.T)\n",
    "\n",
    "# Calcular los autovalores y autovectores de la matriz de covarianza\n",
    "autovalores, autovectores = np.linalg.eig(matriz_covarianza)"
   ]
  },
  {
   "attachments": {},
   "cell_type": "markdown",
   "metadata": {},
   "source": [
    "### Dataframe con porcentaje de varianza y el acumulado por cada componente."
   ]
  },
  {
   "cell_type": "code",
   "execution_count": 65,
   "metadata": {},
   "outputs": [
    {
     "name": "stdout",
     "output_type": "stream",
     "text": [
      "Autovaloress [2.62997944 1.55066147 0.16420572 0.47459774 0.71552145 0.78082366]\n",
      "Autovectores [[ 0.45454125  0.15847313  0.37672419 -0.07820604  0.78451794  0.06908557]\n",
      " [ 0.45072878 -0.25198079 -0.491921    0.1067326  -0.02435867  0.69237113]\n",
      " [ 0.31882326 -0.63200759  0.5475605   0.33202671 -0.277256   -0.10946693]\n",
      " [ 0.42331653  0.38227978 -0.30437481  0.61163075 -0.07575687 -0.4496554 ]\n",
      " [ 0.48098891 -0.16852151 -0.23006595 -0.68447289 -0.16380914 -0.43815894]\n",
      " [ 0.27935701  0.58087953  0.41315342 -0.17220602 -0.52392254  0.33119957]]\n"
     ]
    },
    {
     "data": {
      "text/html": [
       "<div>\n",
       "<style scoped>\n",
       "    .dataframe tbody tr th:only-of-type {\n",
       "        vertical-align: middle;\n",
       "    }\n",
       "\n",
       "    .dataframe tbody tr th {\n",
       "        vertical-align: top;\n",
       "    }\n",
       "\n",
       "    .dataframe thead th {\n",
       "        text-align: right;\n",
       "    }\n",
       "</style>\n",
       "<table border=\"1\" class=\"dataframe\">\n",
       "  <thead>\n",
       "    <tr style=\"text-align: right;\">\n",
       "      <th></th>\n",
       "      <th>Variance Explained</th>\n",
       "      <th>Cumulative Variance</th>\n",
       "    </tr>\n",
       "  </thead>\n",
       "  <tbody>\n",
       "    <tr>\n",
       "      <th>0</th>\n",
       "      <td>41.641341</td>\n",
       "      <td>41.641341</td>\n",
       "    </tr>\n",
       "    <tr>\n",
       "      <th>1</th>\n",
       "      <td>24.552140</td>\n",
       "      <td>66.193481</td>\n",
       "    </tr>\n",
       "    <tr>\n",
       "      <th>2</th>\n",
       "      <td>12.363041</td>\n",
       "      <td>78.556522</td>\n",
       "    </tr>\n",
       "    <tr>\n",
       "      <th>3</th>\n",
       "      <td>11.329090</td>\n",
       "      <td>89.885612</td>\n",
       "    </tr>\n",
       "    <tr>\n",
       "      <th>4</th>\n",
       "      <td>7.514464</td>\n",
       "      <td>97.400076</td>\n",
       "    </tr>\n",
       "    <tr>\n",
       "      <th>5</th>\n",
       "      <td>2.599924</td>\n",
       "      <td>100.000000</td>\n",
       "    </tr>\n",
       "  </tbody>\n",
       "</table>\n",
       "</div>"
      ],
      "text/plain": [
       "   Variance Explained  Cumulative Variance\n",
       "0           41.641341            41.641341\n",
       "1           24.552140            66.193481\n",
       "2           12.363041            78.556522\n",
       "3           11.329090            89.885612\n",
       "4            7.514464            97.400076\n",
       "5            2.599924           100.000000"
      ]
     },
     "execution_count": 65,
     "metadata": {},
     "output_type": "execute_result"
    }
   ],
   "source": [
    "Pokemon_Covar = np.cov(Pokemon_Dataset_Final1.T)\n",
    "\n",
    "# Calcular los autovalores y autovectores de la matriz de covarianza\n",
    "autovalores, autovectores = np.linalg.eig(Pokemon_Covar)\n",
    "\n",
    "# Calcular el total de varianza\n",
    "varianza_total = np.sum(autovalores)\n",
    "# Calcular el porcentaje de varianza explicado por cada componente\n",
    "varianza = [(i / varianza_total)*100 for i in sorted(autovalores, reverse=True)]\n",
    "# Calcular el acumulado de varianza explicado\n",
    "Varianza_Acumulada = np.cumsum(varianza)\n",
    "\n",
    "# Crear un DataFrame con el porcentaje de varianza y el acumulado\n",
    "Dataset_Final = pd.DataFrame({'Variance Explained': varianza,\n",
    "                              'Cumulative Variance': Varianza_Acumulada})\n",
    "\n",
    "\n",
    "print(\"Autovaloress\", autovalores)\n",
    "print(\"Autovectores\", autovectores)\n",
    "Dataset_Final.head(6)\n"
   ]
  },
  {
   "attachments": {},
   "cell_type": "markdown",
   "metadata": {},
   "source": [
    "Se quiere saber cuál es el menor número de autovectores o componentes principales, con el que podemos expresar “la esencia principal” de la información contenida en ese dataset. \n",
    "Para ello, usaremos un métrica que se conoce como “varianza explicada”, que muestra cuánta varianza se puede atribuir a cada una de estas componentes principales.\n",
    "Se ha decidido realizar un diagrama de barras para la fácil visualización de la varianza de cada componente, así como la linea azul discontinua que indica el cúmulo de varianzas individuales."
   ]
  },
  {
   "cell_type": "code",
   "execution_count": 66,
   "metadata": {},
   "outputs": [
    {
     "data": {
      "image/png": "[encoded data removed]",
      "text/plain": [
       "<Figure size 600x400 with 1 Axes>"
      ]
     },
     "metadata": {},
     "output_type": "display_data"
    }
   ],
   "source": [
    "#Creación de la figura del diagrama de barras para representar la varianza individual y acumulada\n",
    "with plt.style.context('seaborn-pastel'):\n",
    "    plt.figure(figsize=(6, 4))\n",
    "\n",
    "    plt.bar(range(6), varianza, alpha=0.5, align='center',\n",
    "            label='Varianza individual explicada', color='g')\n",
    "    plt.step(range(6), Varianza_Acumulada, where='mid', linestyle='--', label='Varianza explicada acumulada')\n",
    "    plt.ylabel('Ratio de Varianza Explicada')\n",
    "    plt.xlabel('Componentes Principales')\n",
    "    plt.legend(loc='best')\n",
    "    plt.tight_layout()\n",
    "plt.show()"
   ]
  },
  {
   "attachments": {},
   "cell_type": "markdown",
   "metadata": {},
   "source": [
    "Este Data Frame lo que quiere explicar es cuál es el número menor de componentes principales, con el que podemos representar la mayoría de la información, reduciendo así la dimensionalidad. Como podemos ver gracias a la varianza acumulada, con dos componentes podemos representar más de la mitad de la información original:\n",
    "\n",
    "\n",
    "* Con dos componentes perdemos el 33% de los datos.\n",
    "* Con tres componentes representa el 78.56% de los datos."
   ]
  },
  {
   "attachments": {},
   "cell_type": "markdown",
   "metadata": {},
   "source": [
    "<div id='id3'>\n",
    "\n",
    "### *Ejercicio 3*\n",
    "\n",
    "---\n",
    "Representación gráfica de los individuos del dataset. "
   ]
  },
  {
   "cell_type": "code",
   "execution_count": 67,
   "metadata": {},
   "outputs": [
    {
     "name": "stdout",
     "output_type": "stream",
     "text": [
      "Autovalores en orden descendiente:\n",
      "2.629979441140372\n",
      "1.550661470614857\n",
      "0.7808236593436158\n",
      "0.7155214470319362\n",
      "0.4745977383380433\n",
      "0.16420571721538674\n",
      "\n",
      "Matriz W:\n",
      " [[ 0.45454125  0.15847313]\n",
      " [ 0.45072878 -0.25198079]\n",
      " [ 0.31882326 -0.63200759]\n",
      " [ 0.42331653  0.38227978]\n",
      " [ 0.48098891 -0.16852151]\n",
      " [ 0.27935701  0.58087953]]\n"
     ]
    },
    {
     "data": {
      "image/png": "[encoded data removed]",
      "text/plain": [
       "<Figure size 600x400 with 1 Axes>"
      ]
     },
     "metadata": {},
     "output_type": "display_data"
    }
   ],
   "source": [
    "# Creación del diagrama de dispersión\n",
    "#Cogemos la columna de tipos que utilizamos para mostrarlo en la gráfica\n",
    "columna_tipo = Pokemon_Dataset.iloc[:,1].values\n",
    "#  Hacemos una lista de parejas (autovector, autovalor) \n",
    "eig_pairs = [(np.abs(autovalores[i]), autovectores[:,i]) for i in range(len(autovalores))]\n",
    "\n",
    "# Ordenamos estas parejas den orden descendiente con la función sort\n",
    "eig_pairs.sort(key=lambda x: x[0], reverse=True)\n",
    "\n",
    "#Visualizamos la lista de autovalores en orden desdenciente\n",
    "print('Autovalores en orden descendiente:')\n",
    "for i in eig_pairs:\n",
    "    print(i[0])\n",
    "\n",
    "\n",
    "#Generamos la matríz a partir de los pares autovalor-autovector\n",
    "matrix_w = np.hstack((eig_pairs[0][1].reshape(6,1),\n",
    "                      eig_pairs[1][1].reshape(6,1)))\n",
    "#print('\\nMatriz W:\\n', matrix_w)\n",
    "\n",
    "#Introducimos la matriz de pares autovalor-autovector en el eje Y\n",
    "Y = Pokemon_Dataset_Final.dot(matrix_w)\n",
    "\n",
    "#Creamos la grafica mostrando una leyenda por tipos y según las dos componentes principales\n",
    "with plt.style.context('seaborn-whitegrid'):\n",
    "    plt.figure(figsize=(6, 4))\n",
    "    for lab, col in zip(('Fuego', 'Agua', 'Planta', 'Eléctrico', 'Fantasma'),\n",
    "                        ('red', 'cyan', 'limegreen', 'yellow', 'slateblue')):\n",
    "        plt.scatter(Y[columna_tipo==lab, 0],\n",
    "                    Y[columna_tipo==lab, 1],\n",
    "                    label=lab,\n",
    "                    c=col)\n",
    "    plt.xlabel('Componente Principal 1')\n",
    "    plt.ylabel('Componente Principal 2')\n",
    "    plt.legend(bbox_to_anchor=(1.05, 1), loc='upper left')\n",
    "    plt.tight_layout()\n",
    "    plt.show()\n",
    "    \n"
   ]
  },
  {
   "attachments": {},
   "cell_type": "markdown",
   "metadata": {},
   "source": [
    "Elegimos los cuatro datos que se encuentran más a la derecha, de estos datos podemos decir que:\n",
    "\n",
    "* Al estar relativamente juntos, estos individuos tienen una fuerte correlación\n",
    "* Podemos afirmar que los valores de sus características son muy parecidas pese a ser de distito tipo\n",
    "* Podríamos crear una clase a partir de ellos para reducir la complejidad al clasificarlos\n",
    "* En la componente principal 1 tiene una gran representación mientras que la componente 2 tiene una representación media"
   ]
  },
  {
   "attachments": {},
   "cell_type": "markdown",
   "metadata": {},
   "source": [
    "<div id='id4'>\n",
    "\n",
    "### *Ejercicio 4*\n",
    "\n",
    "---\n",
    "Ejercicios 1, 2 y 3 con la libreria Scitik-Learn. "
   ]
  },
  {
   "attachments": {},
   "cell_type": "markdown",
   "metadata": {},
   "source": [
    "## Librerias"
   ]
  },
  {
   "cell_type": "code",
   "execution_count": 68,
   "metadata": {},
   "outputs": [],
   "source": [
    "#Esta función de la librería scikit-learn nos realiza un análisis de componentes principales, reduce la dimensionalidad\n",
    "from sklearn.decomposition import PCA"
   ]
  },
  {
   "attachments": {},
   "cell_type": "markdown",
   "metadata": {},
   "source": [
    "Comparando los datos de los autovalores y autovectores no hay mucha diferencia, solamente unas cuantas décimas.\n",
    "\n",
    "Con la librería Scikit-learn utilizamos menos líneas para sacar los valores, ya que con la función pca, nos permite hacer un análisis de componentes con sus propias funciones que agrupan varias operaciones en una sola. "
   ]
  },
  {
   "cell_type": "code",
   "execution_count": 69,
   "metadata": {},
   "outputs": [
    {
     "name": "stdout",
     "output_type": "stream",
     "text": [
      "Autovalores:  [2.41186867 1.35045835 0.80348726 0.48151577 0.37524859 0.12478978]\n",
      "Autovectores:  [[-0.32084942 -0.3190864  -0.11086561 -0.64458144 -0.31242477 -0.5194746 ]\n",
      " [-0.14373272 -0.48249794 -0.59670858  0.1646313  -0.32821592  0.50561483]\n",
      " [-0.06823637  0.54873505 -0.05451283 -0.60792237 -0.13338557  0.55127187]\n",
      " [-0.76537709 -0.21711697  0.43556921  0.03639613  0.31229582  0.28015038]\n",
      " [-0.28774462  0.33396545  0.24206283  0.38855372 -0.76546294 -0.1008375 ]\n",
      " [ 0.45071198 -0.45342778  0.61673421 -0.18852858 -0.30563242  0.28626328]]\n"
     ]
    },
    {
     "data": {
      "image/png": "[encoded data removed]",
      "text/plain": [
       "<Figure size 600x400 with 1 Axes>"
      ]
     },
     "metadata": {},
     "output_type": "display_data"
    },
    {
     "data": {
      "text/html": [
       "<div>\n",
       "<style scoped>\n",
       "    .dataframe tbody tr th:only-of-type {\n",
       "        vertical-align: middle;\n",
       "    }\n",
       "\n",
       "    .dataframe tbody tr th {\n",
       "        vertical-align: top;\n",
       "    }\n",
       "\n",
       "    .dataframe thead th {\n",
       "        text-align: right;\n",
       "    }\n",
       "</style>\n",
       "<table border=\"1\" class=\"dataframe\">\n",
       "  <thead>\n",
       "    <tr style=\"text-align: right;\">\n",
       "      <th></th>\n",
       "      <th>component</th>\n",
       "      <th>variance_ratio</th>\n",
       "      <th>variance_cumulative</th>\n",
       "    </tr>\n",
       "  </thead>\n",
       "  <tbody>\n",
       "    <tr>\n",
       "      <th>0</th>\n",
       "      <td>1</td>\n",
       "      <td>43.477709</td>\n",
       "      <td>43.477709</td>\n",
       "    </tr>\n",
       "    <tr>\n",
       "      <th>1</th>\n",
       "      <td>2</td>\n",
       "      <td>24.344126</td>\n",
       "      <td>67.821834</td>\n",
       "    </tr>\n",
       "    <tr>\n",
       "      <th>2</th>\n",
       "      <td>3</td>\n",
       "      <td>14.484116</td>\n",
       "      <td>82.305950</td>\n",
       "    </tr>\n",
       "    <tr>\n",
       "      <th>3</th>\n",
       "      <td>4</td>\n",
       "      <td>8.680075</td>\n",
       "      <td>90.986025</td>\n",
       "    </tr>\n",
       "    <tr>\n",
       "      <th>4</th>\n",
       "      <td>5</td>\n",
       "      <td>6.764443</td>\n",
       "      <td>97.750469</td>\n",
       "    </tr>\n",
       "    <tr>\n",
       "      <th>5</th>\n",
       "      <td>6</td>\n",
       "      <td>2.249531</td>\n",
       "      <td>100.000000</td>\n",
       "    </tr>\n",
       "  </tbody>\n",
       "</table>\n",
       "</div>"
      ],
      "text/plain": [
       "   component  variance_ratio  variance_cumulative\n",
       "0          1       43.477709            43.477709\n",
       "1          2       24.344126            67.821834\n",
       "2          3       14.484116            82.305950\n",
       "3          4        8.680075            90.986025\n",
       "4          5        6.764443            97.750469\n",
       "5          6        2.249531           100.000000"
      ]
     },
     "execution_count": 69,
     "metadata": {},
     "output_type": "execute_result"
    }
   ],
   "source": [
    "#Instanciamos un objeto PCA\n",
    "pca = PCA()\n",
    "\n",
    "#Pokemon_estand = Pokemon_Dataset[['PS', 'Ataque', 'Defensa', 'Ataque especial', 'Defensa especial', 'Velocidad']]\n",
    "#Ajustamos los datos del dataframe creado\n",
    "pca.fit(Pokemon_estand)\n",
    "\n",
    "# Obtener autovalores y autovectores\n",
    "pcautovalores = pca.explained_variance_\n",
    "pcautovectores = pca.components_\n",
    "\n",
    "print(\"Autovalores: \", pcautovalores)\n",
    "print(\"Autovectores: \", pcautovectores)\n",
    "\n",
    "#Obtener las varianzas explicadas y acumulada\n",
    "variance_ratio = pca.explained_variance_ratio_ * 100\n",
    "variance_cumulative = np.cumsum(variance_ratio)\n",
    "\n",
    "#Creación de la figura del diagrama de barras para representar la varianza individual y acumulada\n",
    "with plt.style.context('seaborn-pastel'):\n",
    "    plt.figure(figsize=(6, 4))\n",
    "\n",
    "    plt.bar(range(6), variance_ratio, alpha=0.5, align='center',\n",
    "            label='Varianza individual explicada', color='g')\n",
    "    plt.step(range(6), variance_cumulative, where='mid', linestyle='--', label='Varianza explicada acumulada')\n",
    "    plt.ylabel('Ratio de Varianza Explicada')\n",
    "    plt.xlabel('Componentes Principales')\n",
    "    plt.legend(loc='best')\n",
    "    plt.tight_layout()\n",
    "plt.show()\n",
    "\n",
    "# Crear DataFrame\n",
    "pcaDF = pd.DataFrame({'component': range(1, pca.n_components_ + 1),\n",
    "                   'variance_ratio': variance_ratio,\n",
    "                   'variance_cumulative': variance_cumulative})\n",
    "\n",
    "# Imprimir DataFrame\n",
    "pcaDF.head(6)\n",
    "\n"
   ]
  },
  {
   "attachments": {},
   "cell_type": "markdown",
   "metadata": {},
   "source": [
    "Con esta gráfica de la funcion PCA, podemos ver mejor la diferencia de variación con el ejercicio 2.\n",
    "\n",
    "* En esta gráfica hay un poco más de varianza en la primera componente, lo que quiere decir que tiene una mayor variación pero a su vez tiene más información para representar."
   ]
  },
  {
   "attachments": {},
   "cell_type": "markdown",
   "metadata": {},
   "source": [
    "Como podemos ver, con las dos primeras componentes ya obtendríamos el 67,8% de la información, por lo que representaremos la gráfica en dos componentes tal y como se nos pide."
   ]
  },
  {
   "cell_type": "code",
   "execution_count": 70,
   "metadata": {},
   "outputs": [
    {
     "name": "stdout",
     "output_type": "stream",
     "text": [
      "Autovalores en orden descendiente:\n",
      "2.629979441140372\n",
      "1.550661470614857\n",
      "0.7808236593436158\n",
      "0.7155214470319362\n",
      "0.4745977383380433\n",
      "0.16420571721538674\n",
      "\n",
      "Matriz W:\n",
      " [[-0.32084942 -0.3190864 ]\n",
      " [-0.14373272 -0.48249794]\n",
      " [-0.06823637  0.54873505]\n",
      " [-0.76537709 -0.21711697]\n",
      " [-0.28774462  0.33396545]\n",
      " [ 0.45071198 -0.45342778]]\n"
     ]
    },
    {
     "data": {
      "image/png": "[encoded data removed]",
      "text/plain": [
       "<Figure size 600x400 with 1 Axes>"
      ]
     },
     "metadata": {},
     "output_type": "display_data"
    }
   ],
   "source": [
    "#Instanciamos un objeto PCA, cogiendo solo los dos primeros componentes\n",
    "pca2 = PCA(n_components=2)\n",
    "\n",
    "#Pokemon_estand = Pokemon_Dataset[['PS', 'Ataque', 'Defensa', 'Ataque especial', 'Defensa especial', 'Velocidad']]\n",
    "#Ajustamos los datos del dataframe creado\n",
    "X_pca = pca2.fit_transform(Pokemon_estand)\n",
    "\n",
    "\n",
    "# Creación del diagrama de dispersión\n",
    "#Cogemos la columna de tipos que utilizamos para mostrarlo en la gráfica\n",
    "columna_tipo1 = Pokemon_Dataset.iloc[:,1].values\n",
    "#  Hacemos una lista de parejas (autovector, autovalor) \n",
    "eig_pairs1 = [(np.abs(pcautovalores[i]), pcautovectores[:,i]) for i in range(len(pcautovalores))]\n",
    "\n",
    "# Ordenamos estas parejas den orden descendiente con la función sort\n",
    "eig_pairs1.sort(key=lambda x: x[0], reverse=True)\n",
    "\n",
    "#Visualizamos la lista de autovalores en orden desdenciente\n",
    "print('Autovalores en orden descendiente:')\n",
    "for i in eig_pairs:\n",
    "    print(i[0])\n",
    "\n",
    "\n",
    "#Generamos la matríz a partir de los pares autovalor-autovector\n",
    "matrix_w1 = np.hstack((eig_pairs1[0][1].reshape(6,1),\n",
    "                      eig_pairs1[1][1].reshape(6,1)))\n",
    "#print('\\nMatriz W:\\n', matrix_w1)\n",
    "\n",
    "#Introducimos la matriz de pares autovalor-autovector en el eje Y\n",
    "Y = Pokemon_Dataset_Final.dot(matrix_w1)\n",
    "\n",
    "#Creamos la grafica mostrando una leyenda por tipos y según las dos componentes principales\n",
    "with plt.style.context('seaborn-whitegrid'):\n",
    "    plt.figure(figsize=(6, 4))\n",
    "    for lab, col in zip(('Fuego', 'Agua', 'Planta', 'Eléctrico', 'Fantasma'),\n",
    "                        ('red', 'cyan', 'limegreen', 'yellow', 'slateblue')):\n",
    "        plt.scatter(Y[columna_tipo1==lab, 0],\n",
    "                    Y[columna_tipo1==lab, 1],\n",
    "                    label=lab,\n",
    "                    c=col)\n",
    "    plt.xlabel('Componente Principal 1')\n",
    "    plt.ylabel('Componente Principal 2')\n",
    "    plt.legend(bbox_to_anchor=(1.05, 1), loc='upper left')\n",
    "    plt.tight_layout()\n",
    "    plt.show()\n"
   ]
  },
  {
   "attachments": {},
   "cell_type": "markdown",
   "metadata": {},
   "source": [
    "Podemos ver una diferencia notable en la dispersión de los datos, ya que con la función PCA las varianzas explicadas de los componentes principales utilizados son superiores. Por lo tanto, la gráfica y los individuos varían en su representación."
   ]
  }
 ],
 "metadata": {
  "kernelspec": {
   "display_name": "Python 3",
   "language": "python",
   "name": "python3"
  },
  "language_info": {
   "codemirror_mode": {
    "name": "ipython",
    "version": 3
   },
   "file_extension": ".py",
   "mimetype": "text/x-python",
   "name": "python",
   "nbconvert_exporter": "python",
   "pygments_lexer": "ipython3",
   "version": "3.8.1"
  },
  "orig_nbformat": 4,
  "vscode": {
   "interpreter": {
    "hash": "489efb82d22668be0e54df63f794bbea7416a7d7ca230442c80a6a7aa8d3b7db"
   }
  }
 },
 "nbformat": 4,
 "nbformat_minor": 2
}
