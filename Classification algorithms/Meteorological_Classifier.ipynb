{
 "cells": [
  {
   "attachments": {},
   "cell_type": "markdown",
   "metadata": {},
   "source": [
    "# Meteorological Classifier"
   ]
  },
  {
   "attachments": {},
   "cell_type": "markdown",
   "metadata": {},
   "source": [
    "### Importación de Librerías"
   ]
  },
  {
   "cell_type": "code",
   "execution_count": 8,
   "metadata": {},
   "outputs": [],
   "source": [
    "import pandas as pd\n",
    "import sklearn\n",
    "from sklearn.naive_bayes import CategoricalNB\n",
    "from sklearn.preprocessing import LabelEncoder"
   ]
  },
  {
   "attachments": {},
   "cell_type": "markdown",
   "metadata": {},
   "source": [
    "### Lectura del CSV"
   ]
  },
  {
   "cell_type": "code",
   "execution_count": 9,
   "metadata": {},
   "outputs": [
    {
     "data": {
      "text/html": [
       "<div>\n",
       "<style scoped>\n",
       "    .dataframe tbody tr th:only-of-type {\n",
       "        vertical-align: middle;\n",
       "    }\n",
       "\n",
       "    .dataframe tbody tr th {\n",
       "        vertical-align: top;\n",
       "    }\n",
       "\n",
       "    .dataframe thead th {\n",
       "        text-align: right;\n",
       "    }\n",
       "</style>\n",
       "<table border=\"1\" class=\"dataframe\">\n",
       "  <thead>\n",
       "    <tr style=\"text-align: right;\">\n",
       "      <th></th>\n",
       "      <th>DATE</th>\n",
       "      <th>PRCP</th>\n",
       "      <th>TMAX</th>\n",
       "      <th>TMIN</th>\n",
       "      <th>RAIN</th>\n",
       "    </tr>\n",
       "  </thead>\n",
       "  <tbody>\n",
       "    <tr>\n",
       "      <th>0</th>\n",
       "      <td>1948-01-01</td>\n",
       "      <td>0.47</td>\n",
       "      <td>51</td>\n",
       "      <td>42</td>\n",
       "      <td>True</td>\n",
       "    </tr>\n",
       "    <tr>\n",
       "      <th>1</th>\n",
       "      <td>1948-01-02</td>\n",
       "      <td>0.59</td>\n",
       "      <td>45</td>\n",
       "      <td>36</td>\n",
       "      <td>True</td>\n",
       "    </tr>\n",
       "    <tr>\n",
       "      <th>2</th>\n",
       "      <td>1948-01-03</td>\n",
       "      <td>0.42</td>\n",
       "      <td>45</td>\n",
       "      <td>35</td>\n",
       "      <td>True</td>\n",
       "    </tr>\n",
       "    <tr>\n",
       "      <th>3</th>\n",
       "      <td>1948-01-04</td>\n",
       "      <td>0.31</td>\n",
       "      <td>45</td>\n",
       "      <td>34</td>\n",
       "      <td>True</td>\n",
       "    </tr>\n",
       "    <tr>\n",
       "      <th>4</th>\n",
       "      <td>1948-01-05</td>\n",
       "      <td>0.17</td>\n",
       "      <td>45</td>\n",
       "      <td>32</td>\n",
       "      <td>True</td>\n",
       "    </tr>\n",
       "  </tbody>\n",
       "</table>\n",
       "</div>"
      ],
      "text/plain": [
       "         DATE  PRCP  TMAX  TMIN  RAIN\n",
       "0  1948-01-01  0.47    51    42  True\n",
       "1  1948-01-02  0.59    45    36  True\n",
       "2  1948-01-03  0.42    45    35  True\n",
       "3  1948-01-04  0.31    45    34  True\n",
       "4  1948-01-05  0.17    45    32  True"
      ]
     },
     "execution_count": 9,
     "metadata": {},
     "output_type": "execute_result"
    }
   ],
   "source": [
    "datos = pd.read_csv('Recursos Lab3/Recursos Lab3/lluvias.csv')\n",
    "datos.head(5)"
   ]
  },
  {
   "attachments": {},
   "cell_type": "markdown",
   "metadata": {},
   "source": [
    "### Funcion para ategorizar"
   ]
  },
  {
   "cell_type": "code",
   "execution_count": 10,
   "metadata": {},
   "outputs": [],
   "source": [
    "# Definir una función para asignar una categoría a la variable \"RAIN\"\n",
    "def asignar_categoria(lluvia):\n",
    "    if lluvia == True:\n",
    "        return \"si\"\n",
    "    else:\n",
    "        return \"no\""
   ]
  },
  {
   "attachments": {},
   "cell_type": "markdown",
   "metadata": {},
   "source": [
    "### Preprocesamiento"
   ]
  },
  {
   "cell_type": "code",
   "execution_count": 11,
   "metadata": {},
   "outputs": [
    {
     "data": {
      "text/html": [
       "<div>\n",
       "<style scoped>\n",
       "    .dataframe tbody tr th:only-of-type {\n",
       "        vertical-align: middle;\n",
       "    }\n",
       "\n",
       "    .dataframe tbody tr th {\n",
       "        vertical-align: top;\n",
       "    }\n",
       "\n",
       "    .dataframe thead th {\n",
       "        text-align: right;\n",
       "    }\n",
       "</style>\n",
       "<table border=\"1\" class=\"dataframe\">\n",
       "  <thead>\n",
       "    <tr style=\"text-align: right;\">\n",
       "      <th></th>\n",
       "      <th>DATE</th>\n",
       "      <th>PRCP</th>\n",
       "      <th>TMAX</th>\n",
       "      <th>TMIN</th>\n",
       "      <th>RAIN</th>\n",
       "      <th>TEMP_CAT</th>\n",
       "      <th>PRECIP_CAT</th>\n",
       "      <th>LLUVIA_CAT</th>\n",
       "      <th>TEMP_CAT_NUM</th>\n",
       "      <th>PRECIP_CAT_NUM</th>\n",
       "    </tr>\n",
       "  </thead>\n",
       "  <tbody>\n",
       "    <tr>\n",
       "      <th>0</th>\n",
       "      <td>1948-01-01</td>\n",
       "      <td>0.47</td>\n",
       "      <td>51</td>\n",
       "      <td>42</td>\n",
       "      <td>True</td>\n",
       "      <td>alta</td>\n",
       "      <td>poco</td>\n",
       "      <td>si</td>\n",
       "      <td>0</td>\n",
       "      <td>2</td>\n",
       "    </tr>\n",
       "    <tr>\n",
       "      <th>1</th>\n",
       "      <td>1948-01-02</td>\n",
       "      <td>0.59</td>\n",
       "      <td>45</td>\n",
       "      <td>36</td>\n",
       "      <td>True</td>\n",
       "      <td>alta</td>\n",
       "      <td>poco</td>\n",
       "      <td>si</td>\n",
       "      <td>0</td>\n",
       "      <td>2</td>\n",
       "    </tr>\n",
       "    <tr>\n",
       "      <th>2</th>\n",
       "      <td>1948-01-03</td>\n",
       "      <td>0.42</td>\n",
       "      <td>45</td>\n",
       "      <td>35</td>\n",
       "      <td>True</td>\n",
       "      <td>alta</td>\n",
       "      <td>poco</td>\n",
       "      <td>si</td>\n",
       "      <td>0</td>\n",
       "      <td>2</td>\n",
       "    </tr>\n",
       "    <tr>\n",
       "      <th>3</th>\n",
       "      <td>1948-01-04</td>\n",
       "      <td>0.31</td>\n",
       "      <td>45</td>\n",
       "      <td>34</td>\n",
       "      <td>True</td>\n",
       "      <td>alta</td>\n",
       "      <td>poco</td>\n",
       "      <td>si</td>\n",
       "      <td>0</td>\n",
       "      <td>2</td>\n",
       "    </tr>\n",
       "    <tr>\n",
       "      <th>4</th>\n",
       "      <td>1948-01-05</td>\n",
       "      <td>0.17</td>\n",
       "      <td>45</td>\n",
       "      <td>32</td>\n",
       "      <td>True</td>\n",
       "      <td>alta</td>\n",
       "      <td>poco</td>\n",
       "      <td>si</td>\n",
       "      <td>0</td>\n",
       "      <td>2</td>\n",
       "    </tr>\n",
       "  </tbody>\n",
       "</table>\n",
       "</div>"
      ],
      "text/plain": [
       "         DATE  PRCP  TMAX  TMIN  RAIN TEMP_CAT PRECIP_CAT LLUVIA_CAT  \\\n",
       "0  1948-01-01  0.47    51    42  True     alta       poco         si   \n",
       "1  1948-01-02  0.59    45    36  True     alta       poco         si   \n",
       "2  1948-01-03  0.42    45    35  True     alta       poco         si   \n",
       "3  1948-01-04  0.31    45    34  True     alta       poco         si   \n",
       "4  1948-01-05  0.17    45    32  True     alta       poco         si   \n",
       "\n",
       "   TEMP_CAT_NUM  PRECIP_CAT_NUM  \n",
       "0             0               2  \n",
       "1             0               2  \n",
       "2             0               2  \n",
       "3             0               2  \n",
       "4             0               2  "
      ]
     },
     "execution_count": 11,
     "metadata": {},
     "output_type": "execute_result"
    }
   ],
   "source": [
    "# Definir las categorías para las temperaturas y las precipitaciones\n",
    "temp_categorias = pd.cut(datos[\"TMIN\"], bins=[-float(\"inf\"), 10, 20, float(\"inf\")], labels=[\"baja\", \"media\", \"alta\"])\n",
    "precip_categorias = pd.cut(datos[\"PRCP\"], bins=[-float(\"inf\"), 1, 2, float(\"inf\")], labels=[\"poco\", \"normal\", \"mucho\"])\n",
    "\n",
    "# Crear nuevas columnas con las categorías\n",
    "datos[\"TEMP_CAT\"] = temp_categorias\n",
    "datos[\"PRECIP_CAT\"] = precip_categorias\n",
    "\n",
    "\n",
    "# Aplicar la función a la variable \"RAIN\" y crear una nueva columna con las categorías\n",
    "datos[\"LLUVIA_CAT\"] = datos[\"RAIN\"].apply(asignar_categoria)\n",
    "le = LabelEncoder()\n",
    "datos[\"TEMP_CAT_NUM\"] = le.fit_transform(datos[\"TEMP_CAT\"])\n",
    "datos[\"PRECIP_CAT_NUM\"] = le.fit_transform(datos[\"PRECIP_CAT\"])\n",
    "# Mostrar el dataframe con las nuevas columnas\n",
    "datos.head(5)"
   ]
  },
  {
   "attachments": {},
   "cell_type": "markdown",
   "metadata": {},
   "source": [
    "#### Explicación del preprocesamiento\n",
    "\n",
    "El preprocesamiento se realiza para preparar los datos antes de utilizarlos en el modelo de clasificación. En este caso, se han aplicado diferentes pasos de preprocesamiento:\n",
    "\n",
    "1- Se ha creado una nueva variable \"LLUVIA_CAT\" a partir de la variable \"RAIN\" para asignar una categoría a los días de lluvia (si/no).\n",
    "2.- Se han creado nuevas variables \"TEMP_CAT\" y \"PRECIP_CAT\" a partir de las variables \"TMIN\" y \"PRCP\", respectivamente. Estas variables categorizan la temperatura y la cantidad de precipitación en tres niveles: baja, media y alta para la temperatura, y poco, normal y mucho para la precipitación.\n",
    "3.- Se ha aplicado la función \"LabelEncoder()\" para convertir las variables categóricas en variables numéricas. Esto es necesario para que el modelo pueda trabajar con ellas.\n",
    "\n",
    "En resumen, el preprocesamiento se realiza para transformar los datos a un formato que pueda ser utilizado por el modelo de clasificación. En este caso, se han convertido las variables categóricas a variables numéricas y se han creado variables adicionales que ayudan a categorizar los datos en diferentes niveles.\n",
    "\n",
    "\n",
    "\n"
   ]
  },
  {
   "attachments": {},
   "cell_type": "markdown",
   "metadata": {},
   "source": [
    "### Clasificador"
   ]
  },
  {
   "cell_type": "code",
   "execution_count": 12,
   "metadata": {},
   "outputs": [
    {
     "name": "stdout",
     "output_type": "stream",
     "text": [
      "Error del clasificador: 0.41\n"
     ]
    }
   ],
   "source": [
    "# Seleccionar las variables de entrada y la variable de salida\n",
    "X = datos[[\"TEMP_CAT_NUM\", \"PRECIP_CAT_NUM\"]]\n",
    "y = datos[\"LLUVIA_CAT\"]\n",
    "\n",
    "# Crear el clasificador Naive Bayes y entrenarlo con los datos\n",
    "clf = CategoricalNB()\n",
    "clf.fit(X, y)\n",
    "\n",
    "# Calcular el error del clasificador\n",
    "error = 1 - clf.score(X, y)\n",
    "print(f\"Error del clasificador: {error:.2f}\")"
   ]
  },
  {
   "attachments": {},
   "cell_type": "markdown",
   "metadata": {},
   "source": [
    "En este ejercicio, se utiliza el algoritmo CategoricalNB de scikit-learn para crear el clasificador Naive Bayes. Se seleccionan las variables de entrada (\"TEMP_CAT\" y \"PRECIP_CAT\") y la variable de salida (\"LLUVIA_CAT\") del dataset preprocesado. Luego se entrena el clasificador con los datos utilizando el método fit(). Finalmente, se calcula el error del clasificador utilizando el método score() y se muestra por pantalla.\n",
    "\n",
    "Una vez que tenemos el clasificador entrenado y evaluado, podemos usarlo para predecir si lloverá en los próximos 3 días. Para ello, necesitamos obtener los datos meteorológicos de los próximos días. Podemos hacerlo utilizando alguna API de pronósticos del tiempo, o simplemente buscando los datos en una página web. en este caso hemos utilizado: https://www.timeanddate.com/weather/spain/madrid/ext.\n",
    "\n",
    "Suponiendo que hoy es el 21 de marzo de 2023, y queremos saber si lloverá en los próximos 3 días. Podemos buscar los datos meteorológicos para los días 22, 23 y 24 de marzo en la página web indicada anteriormente, y guardarlos en un archivo CSV con las mismas columnas que el dataset preprocesado anterior. Luego podemos cargar los datos en un nuevo DataFrame y hacer las predicciones con el clasificador de la siguiente manera:"
   ]
  },
  {
   "attachments": {},
   "cell_type": "markdown",
   "metadata": {},
   "source": [
    "### ¿Por qué se ha creado así el clasificador?\n",
    "\n",
    "Las variables elegidas para clasificar son la temperatura y la precipitación, ya que son dos factores importantes que pueden influir en si va a llover o no en un determinado día.\n",
    "\n",
    "En particular, la temperatura se divide en tres categorías: baja, media y alta, mientras que la precipitación se divide en tres categorías también: poco, normal y mucho. Estas categorías se definieron en el código utilizando la función \"pd.cut()\", que agrupa los valores en un número finito de categorías discretas.\n",
    "\n",
    "Además, se utilizó la función \"LabelEncoder()\" de la librería scikit-learn para codificar las variables categóricas a números enteros. Esto se hace porque muchos algoritmos de aprendizaje automático requieren que los datos de entrada sean numéricos en lugar de categóricos.\n",
    "\n",
    "En resumen, se eligieron estas variables y categorías específicas para el clasificador Naive Bayes, ya que se consideraron las más relevantes para predecir si lloverá o no en un día determinado. Sin embargo, se podrían utilizar otras variables o categorías en función de los datos disponibles y de la hipótesis que se quiera probar."
   ]
  },
  {
   "cell_type": "code",
   "execution_count": 20,
   "metadata": {},
   "outputs": [
    {
     "name": "stdout",
     "output_type": "stream",
     "text": [
      "El día 2023-03-22 de marzo lloverá.\n",
      "El día 2023-03-23 de marzo lloverá.\n",
      "El día 2023-03-24 de marzo lloverá.\n"
     ]
    }
   ],
   "source": [
    "# Cargar los datos del archivo CSV\n",
    "datos_nuevos = pd.read_csv(\"Recursos Lab3/Recursos Lab3/Lluvias_reales.csv\")\n",
    "\n",
    "# Preprocesar los datos de la misma manera que el dataset original\n",
    "temp_categorias = pd.cut(datos_nuevos[\"TMIN\"], bins=[-float(\"inf\"), 10, 20, float(\"inf\")], labels=[\"baja\", \"media\", \"alta\"])\n",
    "precip_categorias = pd.cut(datos_nuevos[\"PRCP\"], bins=[-float(\"inf\"), 1, 2, float(\"inf\")], labels=[\"poco\", \"normal\", \"mucho\"])\n",
    "datos_nuevos[\"TEMP_CAT\"] = temp_categorias\n",
    "datos_nuevos[\"PRECIP_CAT\"] = precip_categorias\n",
    "\n",
    "# Codificar las variables categóricas a números enteros\n",
    "le_temp = LabelEncoder()\n",
    "le_precip = LabelEncoder()\n",
    "\n",
    "datos_nuevos[\"TEMP_CAT_NUM\"] = le_temp.fit_transform(datos_nuevos[\"TEMP_CAT\"])\n",
    "datos_nuevos[\"PRECIP_CAT_NUM\"] = le_precip.fit_transform(datos_nuevos[\"PRECIP_CAT\"])\n",
    "\n",
    "# Hacer las predicciones con el clasificador\n",
    "X_nuevos = datos_nuevos[[\"TEMP_CAT_NUM\", \"PRECIP_CAT_NUM\"]]\n",
    "y_pred = clf.predict(X_nuevos)\n",
    "\n",
    "# Mostrar las predicciones por pantalla\n",
    "for i, lluvia in enumerate(y_pred):\n",
    "    dia = datos_nuevos[\"DATE\"][i]\n",
    "    if lluvia == \"si\":\n",
    "        print(f\"El día {dia} de marzo lloverá.\")\n",
    "    else:\n",
    "        print(f\"El día {dia} de marzo no lloverá.\")"
   ]
  },
  {
   "attachments": {},
   "cell_type": "markdown",
   "metadata": {},
   "source": [
    "### Conclusiones"
   ]
  },
  {
   "attachments": {},
   "cell_type": "markdown",
   "metadata": {},
   "source": [
    "En este caso, el modelo fue entrenado con datos históricos contenidos en el archivo 'lluvias.csv', y se utilizó para predecir si lloverá o no en los días especificados en el archivo 'Lluvias_reales.csv'. Es posible que el modelo no sea preciso en las predicciones de este archivo de prueba debido a diferencias en los datos históricos y actuales.\n",
    "\n",
    "Además, los datos de lluvia en el archivo 'Lluvias_reales.csv' son todos cero (0), lo que indica que no hay lluvia en ninguno de los días. Es posible que el modelo haya sido entrenado con una cantidad insuficiente de datos históricos para poder hacer predicciones precisas sobre días sin lluvia.\n",
    "\n",
    "En resumen, el modelo puede no ser preciso en la predicción de lluvia en los días especificados en el archivo 'Lluvias_reales.csv', y es posible que se necesite un modelo más complejo o un conjunto de datos históricos más grande para obtener predicciones más precisas."
   ]
  }
 ],
 "metadata": {
  "kernelspec": {
   "display_name": "base",
   "language": "python",
   "name": "python3"
  },
  "language_info": {
   "codemirror_mode": {
    "name": "ipython",
    "version": 3
   },
   "file_extension": ".py",
   "mimetype": "text/x-python",
   "name": "python",
   "nbconvert_exporter": "python",
   "pygments_lexer": "ipython3",
   "version": "3.9.13"
  },
  "orig_nbformat": 4
 },
 "nbformat": 4,
 "nbformat_minor": 2
}
