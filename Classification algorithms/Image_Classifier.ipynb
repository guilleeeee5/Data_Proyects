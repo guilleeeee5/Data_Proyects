{
 "cells": [
  {
   "attachments": {},
   "cell_type": "markdown",
   "metadata": {},
   "source": [
    "# Clasificador de imagenes\n",
    "---\n"
   ]
  },
  {
   "attachments": {},
   "cell_type": "markdown",
   "metadata": {},
   "source": [
    "## **Índice**\n",
    "1. [Introducción](#id0)\n",
    "2. [Apartado 1](#id1)\n",
    "3. [Apartado 2](#id2)\n",
    "\n"
   ]
  },
  {
   "cell_type": "code",
   "execution_count": 1,
   "metadata": {},
   "outputs": [],
   "source": [
    "from sklearn import datasets\n",
    "from sklearn.model_selection import train_test_split\n",
    "from sklearn import svm\n",
    "from sklearn import metrics\n",
    "import matplotlib.pyplot as plt\n",
    "import numpy as np\n",
    "# Cargamos el dataset de load digits\n",
    "digits = datasets.load_digits()"
   ]
  },
  {
   "attachments": {},
   "cell_type": "markdown",
   "metadata": {},
   "source": [
    "<div id='id0'>\n",
    "\n",
    "## *Introducción*\n",
    "El etiquetado de imágenes es una tarea ardua. Es por ello y también debido a sus aplicaciones prácticas que los  científicos  llevan  un  tiempo  intentando  mejorar  los  métodos  para  clasificarlas  automáticamente.  En  la oficina de correos de Pozuelo de Alarcón quieren poner en práctica un modelo que clasifique las cartas según el código postal escrito en ellas. Para ello vamos a crear un clasificador que leyendo un número escrito a mano pueda saber cuál es. Dicho clasificador funcionará mediante un set de  entrenamiento donde  se  buscará un plano   que   divida   las   diferentes   clases   dispuesta   en   un   espacio   n-dimensional   dependiendo   de   sus características. \n",
    "Para ello usaremos el dataset “load_digits” que se encuentra en scikit-learn. Elige el clasificador que más se adapte  de  entre  los  vistos  en  clase  y  usa  scikit-learn  junto  con  las  librerías  que  necesites  para  resolver  las siguientes cuestiones."
   ]
  },
  {
   "attachments": {},
   "cell_type": "markdown",
   "metadata": {},
   "source": [
    "<div id='id1'>\n",
    "\n",
    "### Apartado 1 \n",
    "Crea un clasificador que permita saber quénúmero es a partir de una imagen de este. Realiza al menos dos configuraciones y dibuja una tabla donde se muestre la precisión con la que clasifican."
   ]
  },
  {
   "attachments": {},
   "cell_type": "markdown",
   "metadata": {},
   "source": [
    "Para resolver este problema, podemos utilizar el algoritmo de clasificación de SVM (Support Vector Machine), que se ha visto en clase. SVM es un algoritmo de aprendizaje supervisado que se utiliza para clasificar conjuntos de datos. En particular, es útil cuando tenemos dos o más clases que están bien separadas en un espacio n-dimensional."
   ]
  },
  {
   "attachments": {},
   "cell_type": "markdown",
   "metadata": {},
   "source": [
    "Se ha decidido utilizar el 30% de los datos para poder realizar un test despues del entrenamiento para obtener la precision del clasificador y así poder evaluarlo. \n",
    "Las dos configuraciones elegidas han sido con un gamma de 0.001 y de 0.0001 ya que con varias pruebas se ha observado una clasificación óptima para los dos casos y así poder compararlos aunque sean bastante positivos sus resultados."
   ]
  },
  {
   "attachments": {},
   "cell_type": "markdown",
   "metadata": {},
   "source": [
    "Para realizar el segundo apartado se han descartado del entrenamiento ciertos datos de dataset y así el clasificador no los verá hasta después del entrenamiento para evaluar su efectividad."
   ]
  },
  {
   "cell_type": "code",
   "execution_count": 5,
   "metadata": {},
   "outputs": [
    {
     "name": "stdout",
     "output_type": "stream",
     "text": [
      "Precisión del clasificador con C=1, gamma=0.001:  0.9925233644859813\n",
      "Precisión del clasificador con C=100, gamma=0.0001:  0.983177570093458\n"
     ]
    },
    {
     "data": {
      "image/png": "[encoded data removed]",
      "text/plain": [
       "<Figure size 640x480 with 1 Axes>"
      ]
     },
     "metadata": {},
     "output_type": "display_data"
    }
   ],
   "source": [
    "# Dividimos los datos en conjunto de entrenamiento y de prueba\n",
    "X_train, X_test, y_train, y_test = train_test_split(digits.data, digits.target, test_size=0.3, random_state=0)\n",
    "\n",
    "# Dejamos 5 imágenes en un array separado para usar después\n",
    "X_holdout = X_test[:5]\n",
    "y_holdout = y_test[:5]\n",
    "\n",
    "# Eliminamos las 5 imágenes del conjunto de prueba\n",
    "X_test = X_test[5:]\n",
    "y_test = y_test[5:]\n",
    "\n",
    "# Creamos un clasificador SVM con kernel rbf\n",
    "classifier = svm.SVC(kernel='rbf', C=1, gamma=0.001)\n",
    "\n",
    "# Entrenamos el clasificador con el conjunto de entrenamiento\n",
    "classifier.fit(X_train, y_train)\n",
    "\n",
    "# Evaluamos la precisión del clasificador con el conjunto de prueba\n",
    "y_pred = classifier.predict(X_test)\n",
    "accuracy = metrics.accuracy_score(y_test, y_pred)\n",
    "\n",
    "print(\"Precisión del clasificador con C=1, gamma=0.001: \", accuracy)\n",
    "\n",
    "# Creamos otro clasificador con diferentes valores de C y gamma\n",
    "classifier2 = svm.SVC(kernel='rbf', C=100, gamma=0.0001)\n",
    "\n",
    "# Entrenamos el nuevo clasificador con el conjunto de entrenamiento\n",
    "classifier2.fit(X_train, y_train)\n",
    "\n",
    "# Evaluamos la precisión del nuevo clasificador con el conjunto de prueba\n",
    "y_pred2 = classifier2.predict(X_test)\n",
    "accuracy2 = metrics.accuracy_score(y_test, y_pred2)\n",
    "\n",
    "print(\"Precisión del clasificador con C=100, gamma=0.0001: \", accuracy2)\n",
    "\n",
    "# Mostramos una tabla con las precisiones obtenidas por cada clasificador\n",
    "table_data = [['C=1, gamma=0.001', accuracy], ['C=100, gamma=0.0001', accuracy2]]\n",
    "column_names = ['Configuración', 'Precisión']\n",
    "plt.table(cellText=table_data, colLabels=column_names, loc='center')\n",
    "plt.axis('off')\n",
    "plt.show()\n",
    "\n",
    "\n"
   ]
  },
  {
   "attachments": {},
   "cell_type": "markdown",
   "metadata": {},
   "source": [
    "<div id='id2'>\n",
    "\n",
    "### Apartado 2\n",
    "Elige 5 números que no hayas usado ni para entrenar el modelo, ni para evaluarlo y clasifícalas. Usa para ello el modelo que  mejor clasifique  de  los del punto anterior. Índica con que  error ha funcionado el clasificador"
   ]
  },
  {
   "attachments": {},
   "cell_type": "markdown",
   "metadata": {},
   "source": [
    "El mejor clasificador ha resultado ser el primero, con lo que lo usaremos para clasificar las 5 imágenes que el modelo no ha visto ni en el entrenamiento ni en la validación."
   ]
  },
  {
   "cell_type": "code",
   "execution_count": 8,
   "metadata": {},
   "outputs": [
    {
     "name": "stdout",
     "output_type": "stream",
     "text": [
      "Precisión del clasificador en los números no usados:  100.0 %\n",
      "Error del clasificador en los números no usados:  0.0 %\n"
     ]
    }
   ],
   "source": [
    "# Clasificamos los números no usados usando el clasificador 1\n",
    "y_pred_unused = classifier.predict(X_holdout)\n",
    "\n",
    "# Evaluamos la precisión del clasificador en los números no usados\n",
    "accuracy_unused = metrics.accuracy_score(y_holdout, y_pred_unused)\n",
    "\n",
    "print(\"Precisión del clasificador en los números no usados: \", accuracy_unused*100, \"%\")\n",
    "print(\"Error del clasificador en los números no usados: \", (1-accuracy_unused)*100, \"%\")"
   ]
  },
  {
   "attachments": {},
   "cell_type": "markdown",
   "metadata": {},
   "source": [
    "Podemos observar una precisión del 100% y un error del 0%. Esto confirma que el modelo clasifica correctamente y que es bastante preciso."
   ]
  }
 ],
 "metadata": {
  "kernelspec": {
   "display_name": "base",
   "language": "python",
   "name": "python3"
  },
  "language_info": {
   "codemirror_mode": {
    "name": "ipython",
    "version": 3
   },
   "file_extension": ".py",
   "mimetype": "text/x-python",
   "name": "python",
   "nbconvert_exporter": "python",
   "pygments_lexer": "ipython3",
   "version": "3.9.13"
  },
  "orig_nbformat": 4
 },
 "nbformat": 4,
 "nbformat_minor": 2
}
