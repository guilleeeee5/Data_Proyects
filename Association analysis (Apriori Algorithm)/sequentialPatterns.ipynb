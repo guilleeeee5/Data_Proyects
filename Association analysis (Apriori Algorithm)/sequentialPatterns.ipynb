{
 "cells": [
  {
   "attachments": {},
   "cell_type": "markdown",
   "metadata": {},
   "source": [
    "# Sequential patterns\n",
    "---\n"
   ]
  },
  {
   "attachments": {},
   "cell_type": "markdown",
   "metadata": {},
   "source": [
    "## **Índice**\n",
    "1. [Introducción](#id0)\n",
    "1. [Apartado 1](#id1)\n",
    "1. [Apartado 2](#id2)\n",
    "1. [Apartado 3 y 4](#id3)\n",
    "\n",
    "---"
   ]
  },
  {
   "attachments": {},
   "cell_type": "markdown",
   "metadata": {},
   "source": [
    "<div id='id0'>\n",
    "\n",
    "## *Introducción*\n",
    "---\n",
    "En esta práctica se quiere construir un clasificador que nos proporcione una serie de reglas de manera que cuando una persona vaya al campo y encuentre una seta pueda saber si esta es venenosa o no.\n",
    "\n",
    "Para ello  usaremos  el  dataset  “Setas”  que  se  encuentra  en  Moodle:  mushroom.csv  tendrá  la  información necesaria para entrenar y evaluar el modelo e info.txt la equivalencia a las etiquetas usadas en el dataset. La primera columna es la que indica siuna seta es venenosa o no. Elige el clasificador que más se adapte de entre los vistos en clase y usa scikit-learn junto con las librerías que necesites para resolver las siguientes cuestiones.\n",
    "\n",
    "---"
   ]
  },
  {
   "attachments": {},
   "cell_type": "markdown",
   "metadata": {},
   "source": [
    "### Importar Librerías\n",
    "---"
   ]
  },
  {
   "cell_type": "code",
   "execution_count": 25,
   "metadata": {},
   "outputs": [],
   "source": [
    "import numpy as np\n",
    "import pandas as pd\n",
    "import sklearn\n",
    "import apyori\n",
    "import matplotlib.pyplot as plt\n",
    "import gsppy\n",
    "import random\n",
    "import seaborn as sns\n",
    "from gsppy.gsp import GSP"
   ]
  },
  {
   "attachments": {},
   "cell_type": "markdown",
   "metadata": {},
   "source": [
    "### Leemos el fichero splice.data\n",
    "---"
   ]
  },
  {
   "attachments": {},
   "cell_type": "markdown",
   "metadata": {},
   "source": [
    "Leemos el fichero con los datos de las secuencias de ADN y le añadimos un índice a las columnas correspondientes para poder identificarlas"
   ]
  },
  {
   "cell_type": "code",
   "execution_count": 26,
   "metadata": {},
   "outputs": [
    {
     "data": {
      "text/html": [
       "<div>\n",
       "<style scoped>\n",
       "    .dataframe tbody tr th:only-of-type {\n",
       "        vertical-align: middle;\n",
       "    }\n",
       "\n",
       "    .dataframe tbody tr th {\n",
       "        vertical-align: top;\n",
       "    }\n",
       "\n",
       "    .dataframe thead th {\n",
       "        text-align: right;\n",
       "    }\n",
       "</style>\n",
       "<table border=\"1\" class=\"dataframe\">\n",
       "  <thead>\n",
       "    <tr style=\"text-align: right;\">\n",
       "      <th></th>\n",
       "      <th>Tipo</th>\n",
       "      <th>Nombre</th>\n",
       "      <th>Secuencia</th>\n",
       "    </tr>\n",
       "  </thead>\n",
       "  <tbody>\n",
       "    <tr>\n",
       "      <th>0</th>\n",
       "      <td>EI</td>\n",
       "      <td>ATRINS-DONOR-905</td>\n",
       "      <td>AGACCCGCCGGGAGGCGGAGGACCTGCAGGG...</td>\n",
       "    </tr>\n",
       "    <tr>\n",
       "      <th>1</th>\n",
       "      <td>EI</td>\n",
       "      <td>BABAPOE-DONOR-30</td>\n",
       "      <td>GAGGTGAAGGACGTCCTTCCCCAGGAGCCGG...</td>\n",
       "    </tr>\n",
       "    <tr>\n",
       "      <th>2</th>\n",
       "      <td>EI</td>\n",
       "      <td>BABAPOE-DONOR-867</td>\n",
       "      <td>GGGCTGCGTTGCTGGTCACATTCCTGGCAGGT...</td>\n",
       "    </tr>\n",
       "    <tr>\n",
       "      <th>3</th>\n",
       "      <td>EI</td>\n",
       "      <td>BABAPOE-DONOR-2817</td>\n",
       "      <td>GCTCAGCCCCCAGGTCACCCAGGAACTGACGTG...</td>\n",
       "    </tr>\n",
       "    <tr>\n",
       "      <th>4</th>\n",
       "      <td>EI</td>\n",
       "      <td>CHPIGECA-DONOR-378</td>\n",
       "      <td>CAGACTGGGTGGACAACAAAACCTTCAGCGGTA...</td>\n",
       "    </tr>\n",
       "  </tbody>\n",
       "</table>\n",
       "</div>"
      ],
      "text/plain": [
       "  Tipo                  Nombre  \\\n",
       "0   EI        ATRINS-DONOR-905   \n",
       "1   EI        BABAPOE-DONOR-30   \n",
       "2   EI       BABAPOE-DONOR-867   \n",
       "3   EI      BABAPOE-DONOR-2817   \n",
       "4   EI      CHPIGECA-DONOR-378   \n",
       "\n",
       "                                           Secuencia  \n",
       "0                 AGACCCGCCGGGAGGCGGAGGACCTGCAGGG...  \n",
       "1                 GAGGTGAAGGACGTCCTTCCCCAGGAGCCGG...  \n",
       "2                GGGCTGCGTTGCTGGTCACATTCCTGGCAGGT...  \n",
       "3               GCTCAGCCCCCAGGTCACCCAGGAACTGACGTG...  \n",
       "4               CAGACTGGGTGGACAACAAAACCTTCAGCGGTA...  "
      ]
     },
     "execution_count": 26,
     "metadata": {},
     "output_type": "execute_result"
    }
   ],
   "source": [
    "#Lee el fichero splice.data en un dataframe\n",
    "data = pd.read_csv('splice.data', delimiter=',')\n",
    "#Añade los nombres a las columnas\n",
    "data.columns = [\"Tipo\", \"Nombre\", \"Secuencia\"]\n",
    "\n",
    "data.head(5)"
   ]
  },
  {
   "attachments": {},
   "cell_type": "markdown",
   "metadata": {},
   "source": [
    "**Añadimos una nueva columna donde se añadiran la secuencia acortada en grupos de 4 a 10, esta la inicializamos con None para ser mas simple**"
   ]
  },
  {
   "cell_type": "code",
   "execution_count": 27,
   "metadata": {},
   "outputs": [
    {
     "data": {
      "text/html": [
       "<div>\n",
       "<style scoped>\n",
       "    .dataframe tbody tr th:only-of-type {\n",
       "        vertical-align: middle;\n",
       "    }\n",
       "\n",
       "    .dataframe tbody tr th {\n",
       "        vertical-align: top;\n",
       "    }\n",
       "\n",
       "    .dataframe thead th {\n",
       "        text-align: right;\n",
       "    }\n",
       "</style>\n",
       "<table border=\"1\" class=\"dataframe\">\n",
       "  <thead>\n",
       "    <tr style=\"text-align: right;\">\n",
       "      <th></th>\n",
       "      <th>Tipo</th>\n",
       "      <th>Nombre</th>\n",
       "      <th>Secuencia</th>\n",
       "      <th>Secuencia_Acortada</th>\n",
       "    </tr>\n",
       "  </thead>\n",
       "  <tbody>\n",
       "    <tr>\n",
       "      <th>0</th>\n",
       "      <td>EI</td>\n",
       "      <td>ATRINS-DONOR-905</td>\n",
       "      <td>AGACCCGCCGGGAGGCGGAGGACCTGCAGGG...</td>\n",
       "      <td>None</td>\n",
       "    </tr>\n",
       "    <tr>\n",
       "      <th>1</th>\n",
       "      <td>EI</td>\n",
       "      <td>BABAPOE-DONOR-30</td>\n",
       "      <td>GAGGTGAAGGACGTCCTTCCCCAGGAGCCGG...</td>\n",
       "      <td>None</td>\n",
       "    </tr>\n",
       "    <tr>\n",
       "      <th>2</th>\n",
       "      <td>EI</td>\n",
       "      <td>BABAPOE-DONOR-867</td>\n",
       "      <td>GGGCTGCGTTGCTGGTCACATTCCTGGCAGGT...</td>\n",
       "      <td>None</td>\n",
       "    </tr>\n",
       "    <tr>\n",
       "      <th>3</th>\n",
       "      <td>EI</td>\n",
       "      <td>BABAPOE-DONOR-2817</td>\n",
       "      <td>GCTCAGCCCCCAGGTCACCCAGGAACTGACGTG...</td>\n",
       "      <td>None</td>\n",
       "    </tr>\n",
       "    <tr>\n",
       "      <th>4</th>\n",
       "      <td>EI</td>\n",
       "      <td>CHPIGECA-DONOR-378</td>\n",
       "      <td>CAGACTGGGTGGACAACAAAACCTTCAGCGGTA...</td>\n",
       "      <td>None</td>\n",
       "    </tr>\n",
       "  </tbody>\n",
       "</table>\n",
       "</div>"
      ],
      "text/plain": [
       "  Tipo                  Nombre  \\\n",
       "0   EI        ATRINS-DONOR-905   \n",
       "1   EI        BABAPOE-DONOR-30   \n",
       "2   EI       BABAPOE-DONOR-867   \n",
       "3   EI      BABAPOE-DONOR-2817   \n",
       "4   EI      CHPIGECA-DONOR-378   \n",
       "\n",
       "                                           Secuencia Secuencia_Acortada  \n",
       "0                 AGACCCGCCGGGAGGCGGAGGACCTGCAGGG...               None  \n",
       "1                 GAGGTGAAGGACGTCCTTCCCCAGGAGCCGG...               None  \n",
       "2                GGGCTGCGTTGCTGGTCACATTCCTGGCAGGT...               None  \n",
       "3               GCTCAGCCCCCAGGTCACCCAGGAACTGACGTG...               None  \n",
       "4               CAGACTGGGTGGACAACAAAACCTTCAGCGGTA...               None  "
      ]
     },
     "execution_count": 27,
     "metadata": {},
     "output_type": "execute_result"
    }
   ],
   "source": [
    "#Crea una columna que contendrá las secuencias acortadas copn valores por defecto \"None\"\n",
    "data = data.assign(Secuencia_Acortada = \"None\")\n",
    "data.head(5)"
   ]
  },
  {
   "attachments": {},
   "cell_type": "markdown",
   "metadata": {},
   "source": [
    "<div id='id1'>\n",
    "\n",
    "## *Apartado 1*: Generar   una   nueva   columna que debe contener los primeros dígitos de los genes siendo este   número   aleatorio   entre   4 y 10\n",
    "\n",
    "---"
   ]
  },
  {
   "attachments": {},
   "cell_type": "markdown",
   "metadata": {},
   "source": [
    "Generamos las secuencias acortadas de tamaño aleatorio entre 4 y 10 para cada fila en un DataFrame llamado \"data\". \n",
    "\n",
    "- Primero, itera a través de cada fila en el DataFrame y extrae la columna de la secuencia de ADN en cada fila. \n",
    "- Luego, elimina los espacios en la secuencia y genera un número aleatorio entre 4 y 10. \n",
    "- Finalmente, actualiza la columna de la secuencia en esa fila con los primeros n caracteres de la secuencia original, donde n es el número aleatorio generado previamente"
   ]
  },
  {
   "cell_type": "code",
   "execution_count": 28,
   "metadata": {},
   "outputs": [
    {
     "data": {
      "text/html": [
       "<div>\n",
       "<style scoped>\n",
       "    .dataframe tbody tr th:only-of-type {\n",
       "        vertical-align: middle;\n",
       "    }\n",
       "\n",
       "    .dataframe tbody tr th {\n",
       "        vertical-align: top;\n",
       "    }\n",
       "\n",
       "    .dataframe thead th {\n",
       "        text-align: right;\n",
       "    }\n",
       "</style>\n",
       "<table border=\"1\" class=\"dataframe\">\n",
       "  <thead>\n",
       "    <tr style=\"text-align: right;\">\n",
       "      <th></th>\n",
       "      <th>Tipo</th>\n",
       "      <th>Nombre</th>\n",
       "      <th>Secuencia</th>\n",
       "      <th>Secuencia_Acortada</th>\n",
       "    </tr>\n",
       "  </thead>\n",
       "  <tbody>\n",
       "    <tr>\n",
       "      <th>0</th>\n",
       "      <td>EI</td>\n",
       "      <td>ATRINS-DONOR-905</td>\n",
       "      <td>AGACCCGCCGGGAGGCGGAGGACCTGCAGGG...</td>\n",
       "      <td>AGACC</td>\n",
       "    </tr>\n",
       "    <tr>\n",
       "      <th>1</th>\n",
       "      <td>EI</td>\n",
       "      <td>BABAPOE-DONOR-30</td>\n",
       "      <td>GAGGTGAAGGACGTCCTTCCCCAGGAGCCGG...</td>\n",
       "      <td>GAGGTGA</td>\n",
       "    </tr>\n",
       "    <tr>\n",
       "      <th>2</th>\n",
       "      <td>EI</td>\n",
       "      <td>BABAPOE-DONOR-867</td>\n",
       "      <td>GGGCTGCGTTGCTGGTCACATTCCTGGCAGGT...</td>\n",
       "      <td>GGGCTGCGTT</td>\n",
       "    </tr>\n",
       "    <tr>\n",
       "      <th>3</th>\n",
       "      <td>EI</td>\n",
       "      <td>BABAPOE-DONOR-2817</td>\n",
       "      <td>GCTCAGCCCCCAGGTCACCCAGGAACTGACGTG...</td>\n",
       "      <td>GCTCAG</td>\n",
       "    </tr>\n",
       "    <tr>\n",
       "      <th>4</th>\n",
       "      <td>EI</td>\n",
       "      <td>CHPIGECA-DONOR-378</td>\n",
       "      <td>CAGACTGGGTGGACAACAAAACCTTCAGCGGTA...</td>\n",
       "      <td>CAGACTGG</td>\n",
       "    </tr>\n",
       "  </tbody>\n",
       "</table>\n",
       "</div>"
      ],
      "text/plain": [
       "  Tipo                  Nombre  \\\n",
       "0   EI        ATRINS-DONOR-905   \n",
       "1   EI        BABAPOE-DONOR-30   \n",
       "2   EI       BABAPOE-DONOR-867   \n",
       "3   EI      BABAPOE-DONOR-2817   \n",
       "4   EI      CHPIGECA-DONOR-378   \n",
       "\n",
       "                                           Secuencia Secuencia_Acortada  \n",
       "0                 AGACCCGCCGGGAGGCGGAGGACCTGCAGGG...              AGACC  \n",
       "1                 GAGGTGAAGGACGTCCTTCCCCAGGAGCCGG...            GAGGTGA  \n",
       "2                GGGCTGCGTTGCTGGTCACATTCCTGGCAGGT...         GGGCTGCGTT  \n",
       "3               GCTCAGCCCCCAGGTCACCCAGGAACTGACGTG...             GCTCAG  \n",
       "4               CAGACTGGGTGGACAACAAAACCTTCAGCGGTA...           CAGACTGG  "
      ]
     },
     "execution_count": 28,
     "metadata": {},
     "output_type": "execute_result"
    }
   ],
   "source": [
    "#Genera secuencias acortadas de tamaño aleatorio entre 4 y 10\n",
    "for row in data.iterrows():\n",
    "    aux =row[1][2]\n",
    "    for caracter in aux:\n",
    "        #Elimina los espacios\n",
    "        cadena = aux.replace(\" \", \"\")\n",
    "    # Genera un número aleatorio del 4 al 10\n",
    "    numero_aleatorio = random.randint(4, 10)\n",
    "    row[1][3] = row[1][3].replace(\"None\",cadena[:numero_aleatorio])\n",
    "        \n",
    "data.head(5)"
   ]
  },
  {
   "attachments": {},
   "cell_type": "markdown",
   "metadata": {},
   "source": [
    "<div id='id2'>\n",
    "\n",
    "## *Apartado 2*: Comprobación de datos\n",
    "-----"
   ]
  },
  {
   "attachments": {},
   "cell_type": "markdown",
   "metadata": {},
   "source": [
    "Creamos una lista vacía llamada \"lista\" con la misma cantidad de elementos que el conjunto de datos. Luego, se recorre el conjunto de datos y se verifica si la secuencia de la clase está vacía o es nula. Si es así, se imprime un mensaje y se sale del programa. De lo contrario, se recorre cada caracter de la secuencia de la clase y se agrega a la lista si no se encuentra ya presente. Por último, se incrementa un contador para avanzar al siguiente elemento en la lista."
   ]
  },
  {
   "cell_type": "code",
   "execution_count": 29,
   "metadata": {},
   "outputs": [],
   "source": [
    "#Crea una lista vacía del tamaño del dataset\n",
    "lista = [[] for i in range(len(data))]\n",
    "lista_aux = []\n",
    "cont = 0\n",
    "#Añade a la lista la secuencia de la clase comprobando si está vacía y eliminando el contenido repetido\n",
    "for row in data.iterrows():\n",
    "    if row[1][3] == \" \" or row[1][3] == None:\n",
    "        print(\"Hay clases vacías\")\n",
    "    else:\n",
    "        if row[1][3] not in lista:\n",
    "            lista_aux.append(row[1][3])\n",
    "\n",
    "for string in lista_aux:\n",
    "    for char in string:\n",
    "        lista[cont].append(char)\n",
    "    cont += 1\n",
    "\n"
   ]
  },
  {
   "attachments": {},
   "cell_type": "markdown",
   "metadata": {},
   "source": [
    "<div id='id3'>\n",
    "\n",
    "## *Apartado 3 y Apartado 4*: Pruebas con varias configuraciones e Interpretación de algunos de los patrones \n",
    "\n",
    "### (Interpretamos patrones secuenciales de la primera configuración)\n",
    "---"
   ]
  },
  {
   "attachments": {},
   "cell_type": "markdown",
   "metadata": {},
   "source": [
    "**Configuración 1 con soporte de 5%**"
   ]
  },
  {
   "attachments": {},
   "cell_type": "markdown",
   "metadata": {},
   "source": [
    "El resultado de la función GSP(lista).search(0.05) es una lista de conjuntos de patrones frecuentes. \n",
    "Cada conjunto está compuesto por tuplas de longitud variable que representan las secuencias de ADN más frecuentes. \n",
    "La función search toma un parámetro que es el umbral de soporte mínimo para que un patrón sea considerado frecuente. En este caso, se ha fijado en un 5% (0.05).\n",
    "\n",
    "---------------------------------------------------------------------------------------------------------------------------------------------------\n",
    "\n",
    "El código imprime los patrones extraídos en orden descendente de frecuencia. Cada patrón se imprime en una línea separada, con su frecuencia correspondiente, en el formato (patrón): frecuencia."
   ]
  },
  {
   "attachments": {},
   "cell_type": "markdown",
   "metadata": {},
   "source": [
    "Por ejemplo:\n",
    "\n",
    "- El primer patrón  impreso es ('A',): 2543, lo que significa que el carácter 'A' aparece en 2543 de las secuencias de ADN de la lista.\n",
    "- El segundo patrón impreso es ('G',): 2566, lo que significa que el carácter 'G' aparece en 2566 de las secuencias de ADN de la lista, y así sucesivamente para todos los patrones.\n",
    "- Se descartan los patrones que no cumplen con la frecuencia minima seleccionada, en este caso 5% y se continuan realizando patrones. \n",
    "- Se imprimen los patrones de longitud dos y tres más frecuentes, que se representan como tuplas de dos y tres elementos respectivamente. Por ejemplo, ('A', 'C')indica que la secuencia 'AC' aparece en 936 de las secuencias de ADN de la lista."
   ]
  },
  {
   "cell_type": "code",
   "execution_count": 30,
   "metadata": {},
   "outputs": [
    {
     "name": "stdout",
     "output_type": "stream",
     "text": [
      "('A',): 2543\n",
      "('G',): 2566\n",
      "('C',): 2644\n",
      "('T',): 2581\n",
      "\n",
      "('A', 'A'): 843\n",
      "('C', 'C'): 1103\n",
      "('A', 'G'): 1097\n",
      "('A', 'C'): 936\n",
      "('C', 'G'): 474\n",
      "('C', 'A'): 1163\n",
      "('G', 'A'): 1089\n",
      "('C', 'T'): 1433\n",
      "('A', 'T'): 882\n",
      "('G', 'C'): 1092\n",
      "('G', 'G'): 980\n",
      "('T', 'C'): 1062\n",
      "('T', 'A'): 598\n",
      "('T', 'T'): 789\n",
      "('T', 'G'): 1244\n",
      "('G', 'T'): 720\n",
      "\n",
      "('A', 'A', 'A'): 217\n",
      "('C', 'A', 'A'): 251\n",
      "('A', 'A', 'G'): 287\n",
      "('A', 'G', 'A'): 286\n",
      "('A', 'G', 'G'): 288\n",
      "('A', 'G', 'C'): 298\n",
      "('A', 'A', 'T'): 218\n",
      "('A', 'T', 'C'): 194\n",
      "('A', 'A', 'C'): 195\n",
      "('A', 'C', 'A'): 228\n",
      "('C', 'A', 'C'): 256\n",
      "('A', 'C', 'C'): 290\n",
      "('A', 'T', 'T'): 235\n",
      "('A', 'T', 'G'): 226\n",
      "('A', 'C', 'T'): 246\n",
      "('C', 'A', 'G'): 362\n",
      "('C', 'C', 'A'): 357\n",
      "('C', 'C', 'C'): 304\n",
      "('C', 'A', 'T'): 234\n",
      "('C', 'C', 'T'): 405\n",
      "('C', 'T', 'A'): 171\n",
      "('C', 'T', 'C'): 380\n",
      "('C', 'T', 'G'): 480\n",
      "('C', 'T', 'T'): 290\n",
      "('G', 'A', 'A'): 299\n",
      "('G', 'A', 'C'): 258\n",
      "('G', 'A', 'G'): 297\n",
      "('G', 'A', 'T'): 204\n",
      "('G', 'C', 'A'): 236\n",
      "('G', 'C', 'C'): 331\n",
      "('G', 'C', 'T'): 384\n",
      "('G', 'G', 'A'): 340\n",
      "('G', 'G', 'C'): 321\n",
      "('G', 'G', 'G'): 252\n",
      "('G', 'G', 'T'): 182\n",
      "('G', 'T', 'G'): 236\n",
      "('G', 'T', 'C'): 168\n",
      "('T', 'C', 'A'): 289\n",
      "('T', 'C', 'C'): 309\n",
      "('T', 'C', 'T'): 330\n",
      "('T', 'G', 'T'): 221\n",
      "('T', 'G', 'C'): 274\n",
      "('T', 'G', 'A'): 310\n",
      "('T', 'G', 'G'): 355\n",
      "('T', 'T', 'G'): 221\n",
      "('T', 'T', 'A'): 162\n",
      "('T', 'T', 'C'): 267\n",
      "('T', 'T', 'T'): 222\n",
      "\n"
     ]
    }
   ],
   "source": [
    "#Usa la libreia gsppy para utilizar el algoritmo GSP con un soporte mínimo especificado\n",
    "result1 = GSP(lista).search(0.05)\n",
    "for count in result1:\n",
    "    for k, v in count.items():\n",
    "        print(f\"{k}: {v}\")\n",
    "    print()"
   ]
  },
  {
   "attachments": {},
   "cell_type": "markdown",
   "metadata": {},
   "source": [
    "**Con este código mostramos en una gráfica las distintas secuencias de elementos según su frecuencia. De esta manera nos permite comparar las distintas frecuencias de patrones obtenidos por el algoritmo**:"
   ]
  },
  {
   "cell_type": "code",
   "execution_count": 59,
   "metadata": {},
   "outputs": [
    {
     "data": {
      "image/png": "[encoded data removed]",
      "text/plain": [
       "<Figure size 1080x720 with 1 Axes>"
      ]
     },
     "metadata": {
      "needs_background": "light"
     },
     "output_type": "display_data"
    }
   ],
   "source": [
    "# Obtener las secuencias y las cuentas de cada secuencia\n",
    "seq_types = []\n",
    "seq_counts = []\n",
    "for d in result1:\n",
    "    for seq, count in d.items():\n",
    "        seq_types.append(seq)\n",
    "        seq_counts.append(count)\n",
    "# Convertir las tuplas en strings\n",
    "seq_types_str = [\"\".join(t) for t in seq_types]\n",
    "\n",
    "seq_types2 = seq_types_str[5:20]\n",
    "seq_counts2 = seq_counts[5:20]\n",
    "\n",
    "seq_types3 = seq_types_str[21:]\n",
    "seq_counts3 = seq_counts[21:]\n",
    "\n",
    "# Crear la gráfica de barras utilizando los datos\n",
    "fig, ax = plt.subplots(figsize = (15,10))\n",
    "ax.bar(seq_types2, seq_counts2)\n",
    "\n",
    "# Configurar las etiquetas de los ejes y el título de la gráfica\n",
    "ax.set_xlabel('Secuencias')\n",
    "ax.set_ylabel('Frecuencia')\n",
    "ax.set_title('Frecuencia de secuencias de ADN')\n",
    "\n",
    "# Rotar las etiquetas del eje x para que sean más legibles\n",
    "plt.xticks(rotation=90)\n",
    "\n",
    "# Mostrar la gráfica\n",
    "plt.show()\n"
   ]
  },
  {
   "attachments": {},
   "cell_type": "markdown",
   "metadata": {},
   "source": [
    "**Patrones Analizados:**\n",
    "- El patron '(C,G)' aparece 474 veces en las secuencias ADN en contraste con su secuencia contraria '(G,C)' apareciendo 1092 veces doblandole en apariciones, esto quiere decir que es mas probable que en las secuencias de ADN  aparezca el gen 'C' dado que anteriormente ha aparecido el gen 'G', a que este aparezca directamente como primer gen.\n",
    "\n",
    "- Al igual que en anterior caso el patron '(T,A)' aparece 598 veces en las secuencias ADN en contraste con su secuencia contraria '(A,T)' apareciendo 882 veces, aunque la diferencia sea menor sigue diciendo que es mas probable que en las secuencias de ADN  aparezca el gen 'T' dado que anteriormente ha aparecido el gen 'A', a que este aparezca directamente como primer gen.\n",
    "\n",
    "- El patron '(C,T)', es el más común con 1433 apariciones, queriendo decir que existe una fuerte correlacion entre la aparicion del gen 'C' en primera instancia con el gen 'T' en segunda instancia\n",
    "\n",
    "- De los patrones cuya combinación esta formada por 2 elementos del mismo tipo, se puede observar que el patrón '(C,C)' , es el que mas veces se repite con 1103 veces."
   ]
  },
  {
   "cell_type": "code",
   "execution_count": 60,
   "metadata": {},
   "outputs": [
    {
     "data": {
      "image/png": "[encoded data removed]",
      "text/plain": [
       "<Figure size 1440x720 with 1 Axes>"
      ]
     },
     "metadata": {
      "needs_background": "light"
     },
     "output_type": "display_data"
    }
   ],
   "source": [
    "fig, ax = plt.subplots(figsize = (20,10))\n",
    "ax.bar(seq_types3, seq_counts3)\n",
    "\n",
    "# Configurar las etiquetas de los ejes y el título de la gráfica\n",
    "ax.set_xlabel('Secuencias')\n",
    "ax.set_ylabel('Frecuencia')\n",
    "ax.set_title('Frecuencia de secuencias de ADN')\n",
    "\n",
    "# Rotar las etiquetas del eje x para que sean más legibles\n",
    "plt.xticks(rotation=90)\n",
    "\n",
    "# Mostrar la gráfica\n",
    "plt.show()"
   ]
  },
  {
   "attachments": {},
   "cell_type": "markdown",
   "metadata": {},
   "source": [
    "**Patrones Analizados**\n",
    "- Los patrones que comienzan con el elemento 'A' y contienen el elemento 'G' se repiten en numeros muy cercanos entre si , es decir, ('A', 'A', 'G'): 287, ('A', 'G', 'A'): 286, ('A', 'G', 'G'): 288, ('A', 'G', 'C'): 298, queriendo decir que existe una fuerte correlación entre que dado el gen 'A', es probable que a continuación se de el gen 'G', independientemente si esta elegido en la 2º o 3º posición del patrón, por lo tanto el orden no importa tanto.\n",
    "\n",
    "- Por otro lado los patrones que comienzan con el elemento 'T' y contienen el elemento 'G' son muy dispersos entre si, ('T', 'G', 'T'): 221, ('T', 'G', 'C'): 274 ,('T', 'G', 'A'): 310 ,('T', 'G', 'G'): 355 ,('T', 'T', 'G'): 221, queriendo decir que si que importa la en gran medida la posición en la que el gen 'G' es seleccionado  respecto al gen 'T'.\n",
    "\n"
   ]
  },
  {
   "attachments": {},
   "cell_type": "markdown",
   "metadata": {},
   "source": [
    "**Configuración 2 con soporte de 10%**"
   ]
  },
  {
   "cell_type": "code",
   "execution_count": 33,
   "metadata": {},
   "outputs": [
    {
     "name": "stdout",
     "output_type": "stream",
     "text": [
      "('A',): 2543\n",
      "('G',): 2566\n",
      "('C',): 2644\n",
      "('T',): 2581\n",
      "\n",
      "('A', 'C'): 936\n",
      "('C', 'A'): 1163\n",
      "('A', 'A'): 843\n",
      "('A', 'G'): 1097\n",
      "('C', 'G'): 474\n",
      "('C', 'T'): 1433\n",
      "('C', 'C'): 1103\n",
      "('A', 'T'): 882\n",
      "('G', 'A'): 1089\n",
      "('G', 'C'): 1092\n",
      "('G', 'G'): 980\n",
      "('G', 'T'): 720\n",
      "('T', 'G'): 1244\n",
      "('T', 'C'): 1062\n",
      "('T', 'A'): 598\n",
      "('T', 'T'): 789\n",
      "\n",
      "('C', 'A', 'G'): 362\n",
      "('C', 'C', 'A'): 357\n",
      "('G', 'C', 'C'): 331\n",
      "('C', 'C', 'T'): 405\n",
      "('G', 'C', 'T'): 384\n",
      "('C', 'T', 'G'): 480\n",
      "('C', 'T', 'C'): 380\n",
      "('G', 'G', 'A'): 340\n",
      "('G', 'G', 'C'): 321\n",
      "('T', 'C', 'T'): 330\n",
      "('T', 'G', 'G'): 355\n",
      "\n"
     ]
    }
   ],
   "source": [
    "#Usa la libreia gsppy para utilizar el algoritmo GSP con un soporte mínimo especificado\n",
    "result = GSP(lista).search(0.1)\n",
    "for count in result:\n",
    "    for k, v in count.items():\n",
    "        print(f\"{k}: {v}\")\n",
    "    print()"
   ]
  },
  {
   "attachments": {},
   "cell_type": "markdown",
   "metadata": {},
   "source": [
    "**Configuración 3 con soporte de 20%**"
   ]
  },
  {
   "cell_type": "code",
   "execution_count": 34,
   "metadata": {},
   "outputs": [
    {
     "name": "stdout",
     "output_type": "stream",
     "text": [
      "('A',): 2543\n",
      "('T',): 2581\n",
      "('G',): 2566\n",
      "('C',): 2644\n",
      "\n",
      "('A', 'A'): 843\n",
      "('C', 'T'): 1433\n",
      "('A', 'C'): 936\n",
      "('G', 'C'): 1092\n",
      "('A', 'G'): 1097\n",
      "('G', 'A'): 1089\n",
      "('A', 'T'): 882\n",
      "('G', 'T'): 720\n",
      "('C', 'A'): 1163\n",
      "('C', 'C'): 1103\n",
      "('G', 'G'): 980\n",
      "('T', 'G'): 1244\n",
      "('T', 'C'): 1062\n",
      "('T', 'T'): 789\n",
      "\n"
     ]
    }
   ],
   "source": [
    "#Usa la libreia gsppy para utilizar el algoritmo GSP con un soporte mínimo especificado\n",
    "result = GSP(lista).search(0.2)\n",
    "for count in result:\n",
    "    for k, v in count.items():\n",
    "        print(f\"{k}: {v}\")\n",
    "    print()"
   ]
  },
  {
   "attachments": {},
   "cell_type": "markdown",
   "metadata": {},
   "source": [
    "**Configuración 4 con soporte de 30%**"
   ]
  },
  {
   "cell_type": "code",
   "execution_count": 35,
   "metadata": {},
   "outputs": [
    {
     "name": "stdout",
     "output_type": "stream",
     "text": [
      "('A',): 2543\n",
      "('G',): 2566\n",
      "('C',): 2644\n",
      "('T',): 2581\n",
      "\n",
      "('A', 'G'): 1097\n",
      "('T', 'G'): 1244\n",
      "('C', 'C'): 1103\n",
      "('C', 'A'): 1163\n",
      "('T', 'C'): 1062\n",
      "('G', 'A'): 1089\n",
      "('C', 'T'): 1433\n",
      "('G', 'G'): 980\n",
      "('G', 'C'): 1092\n",
      "\n"
     ]
    }
   ],
   "source": [
    "#Usa la libreia gsppy para utilizar el algoritmo GSP con un soporte mínimo especificado\n",
    "result = GSP(lista).search(0.3)\n",
    "for count in result:\n",
    "    for k, v in count.items():\n",
    "        print(f\"{k}: {v}\")\n",
    "    print()\n"
   ]
  }
 ],
 "metadata": {
  "kernelspec": {
   "display_name": "base",
   "language": "python",
   "name": "python3"
  },
  "language_info": {
   "codemirror_mode": {
    "name": "ipython",
    "version": 3
   },
   "file_extension": ".py",
   "mimetype": "text/x-python",
   "name": "python",
   "nbconvert_exporter": "python",
   "pygments_lexer": "ipython3",
   "version": "3.9.13"
  },
  "orig_nbformat": 4,
  "vscode": {
   "interpreter": {
    "hash": "ee8ab044f99152196f67d3badb58ca1ab78fd2ef259558d661c755f79c7cb466"
   }
  }
 },
 "nbformat": 4,
 "nbformat_minor": 2
}
