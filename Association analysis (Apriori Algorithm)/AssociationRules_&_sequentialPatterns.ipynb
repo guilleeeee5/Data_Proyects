{
 "cells": [
  {
   "attachments": {},
   "cell_type": "markdown",
   "metadata": {},
   "source": [
    "# Association rules and sequential patterns\n",
    "\n",
    "\n",
    "---"
   ]
  },
  {
   "attachments": {},
   "cell_type": "markdown",
   "metadata": {},
   "source": [
    "## **Índice**\n",
    "1. [Introducción](#id0)\n",
    "1. [Apartado 1](#id1)\n",
    "1. [Apartado 2](#id2)\n",
    "1. [Apartado 3](#id3)\n",
    "1. [Apartado 4](#id4)\n",
    "1. [Apartado 5](#id5)\n",
    "---"
   ]
  },
  {
   "attachments": {},
   "cell_type": "markdown",
   "metadata": {},
   "source": [
    "### Importar Librerías\n",
    "---"
   ]
  },
  {
   "cell_type": "code",
   "execution_count": 106,
   "metadata": {},
   "outputs": [],
   "source": [
    "import numpy as np\n",
    "import pandas as pd\n",
    "import sklearn\n",
    "from apyori import apriori\n",
    "import matplotlib\n",
    "import matplotlib.pyplot as plt"
   ]
  },
  {
   "attachments": {},
   "cell_type": "markdown",
   "metadata": {},
   "source": [
    "### Lectura del CSV\n",
    "---"
   ]
  },
  {
   "cell_type": "code",
   "execution_count": 107,
   "metadata": {},
   "outputs": [
    {
     "data": {
      "text/html": [
       "<div>\n",
       "<style scoped>\n",
       "    .dataframe tbody tr th:only-of-type {\n",
       "        vertical-align: middle;\n",
       "    }\n",
       "\n",
       "    .dataframe tbody tr th {\n",
       "        vertical-align: top;\n",
       "    }\n",
       "\n",
       "    .dataframe thead th {\n",
       "        text-align: right;\n",
       "    }\n",
       "</style>\n",
       "<table border=\"1\" class=\"dataframe\">\n",
       "  <thead>\n",
       "    <tr style=\"text-align: right;\">\n",
       "      <th></th>\n",
       "      <th>User_ID</th>\n",
       "      <th>Product_ID</th>\n",
       "      <th>Gender</th>\n",
       "      <th>Age</th>\n",
       "      <th>Occupation</th>\n",
       "      <th>City_Category</th>\n",
       "      <th>Stay_In_Current_City_Years</th>\n",
       "      <th>Marital_Status</th>\n",
       "      <th>Product_Category_1</th>\n",
       "      <th>Product_Category_2</th>\n",
       "      <th>Product_Category_3</th>\n",
       "    </tr>\n",
       "  </thead>\n",
       "  <tbody>\n",
       "    <tr>\n",
       "      <th>0</th>\n",
       "      <td>1000004</td>\n",
       "      <td>P00128942</td>\n",
       "      <td>M</td>\n",
       "      <td>46-50</td>\n",
       "      <td>7</td>\n",
       "      <td>B</td>\n",
       "      <td>2</td>\n",
       "      <td>1</td>\n",
       "      <td>1</td>\n",
       "      <td>11.0</td>\n",
       "      <td>NaN</td>\n",
       "    </tr>\n",
       "    <tr>\n",
       "      <th>1</th>\n",
       "      <td>1000009</td>\n",
       "      <td>P00113442</td>\n",
       "      <td>M</td>\n",
       "      <td>26-35</td>\n",
       "      <td>17</td>\n",
       "      <td>C</td>\n",
       "      <td>0</td>\n",
       "      <td>0</td>\n",
       "      <td>3</td>\n",
       "      <td>5.0</td>\n",
       "      <td>NaN</td>\n",
       "    </tr>\n",
       "    <tr>\n",
       "      <th>2</th>\n",
       "      <td>1000010</td>\n",
       "      <td>P00288442</td>\n",
       "      <td>F</td>\n",
       "      <td>36-45</td>\n",
       "      <td>1</td>\n",
       "      <td>B</td>\n",
       "      <td>4+</td>\n",
       "      <td>1</td>\n",
       "      <td>5</td>\n",
       "      <td>14.0</td>\n",
       "      <td>NaN</td>\n",
       "    </tr>\n",
       "    <tr>\n",
       "      <th>3</th>\n",
       "      <td>1000010</td>\n",
       "      <td>P00145342</td>\n",
       "      <td>F</td>\n",
       "      <td>36-45</td>\n",
       "      <td>1</td>\n",
       "      <td>B</td>\n",
       "      <td>4+</td>\n",
       "      <td>1</td>\n",
       "      <td>4</td>\n",
       "      <td>9.0</td>\n",
       "      <td>NaN</td>\n",
       "    </tr>\n",
       "    <tr>\n",
       "      <th>4</th>\n",
       "      <td>1000011</td>\n",
       "      <td>P00053842</td>\n",
       "      <td>F</td>\n",
       "      <td>26-35</td>\n",
       "      <td>1</td>\n",
       "      <td>C</td>\n",
       "      <td>1</td>\n",
       "      <td>0</td>\n",
       "      <td>4</td>\n",
       "      <td>5.0</td>\n",
       "      <td>12.0</td>\n",
       "    </tr>\n",
       "  </tbody>\n",
       "</table>\n",
       "</div>"
      ],
      "text/plain": [
       "   User_ID Product_ID Gender    Age  Occupation City_Category  \\\n",
       "0  1000004  P00128942      M  46-50           7             B   \n",
       "1  1000009  P00113442      M  26-35          17             C   \n",
       "2  1000010  P00288442      F  36-45           1             B   \n",
       "3  1000010  P00145342      F  36-45           1             B   \n",
       "4  1000011  P00053842      F  26-35           1             C   \n",
       "\n",
       "  Stay_In_Current_City_Years  Marital_Status  Product_Category_1  \\\n",
       "0                          2               1                   1   \n",
       "1                          0               0                   3   \n",
       "2                         4+               1                   5   \n",
       "3                         4+               1                   4   \n",
       "4                          1               0                   4   \n",
       "\n",
       "   Product_Category_2  Product_Category_3  \n",
       "0                11.0                 NaN  \n",
       "1                 5.0                 NaN  \n",
       "2                14.0                 NaN  \n",
       "3                 9.0                 NaN  \n",
       "4                 5.0                12.0  "
      ]
     },
     "execution_count": 107,
     "metadata": {},
     "output_type": "execute_result"
    }
   ],
   "source": [
    "data = pd.read_csv('BlackFriday.csv')\n",
    "data.head(5)"
   ]
  },
  {
   "attachments": {},
   "cell_type": "markdown",
   "metadata": {},
   "source": [
    "### Eliminamos datos sin número\n",
    "---\n",
    "\n",
    "Limpiamos los datos eliminando los vacíos para evitar problemas a la hora de operar sobre ellos"
   ]
  },
  {
   "cell_type": "code",
   "execution_count": 108,
   "metadata": {},
   "outputs": [
    {
     "name": "stdout",
     "output_type": "stream",
     "text": [
      "User_ID               0\n",
      "Product_ID            0\n",
      "Gender                0\n",
      "Age                   0\n",
      "Product_Category_1    0\n",
      "Product_Category_2    0\n",
      "Product_Category_3    0\n",
      "dtype: int64\n"
     ]
    },
    {
     "data": {
      "text/html": [
       "<div>\n",
       "<style scoped>\n",
       "    .dataframe tbody tr th:only-of-type {\n",
       "        vertical-align: middle;\n",
       "    }\n",
       "\n",
       "    .dataframe tbody tr th {\n",
       "        vertical-align: top;\n",
       "    }\n",
       "\n",
       "    .dataframe thead th {\n",
       "        text-align: right;\n",
       "    }\n",
       "</style>\n",
       "<table border=\"1\" class=\"dataframe\">\n",
       "  <thead>\n",
       "    <tr style=\"text-align: right;\">\n",
       "      <th></th>\n",
       "      <th>User_ID</th>\n",
       "      <th>Product_ID</th>\n",
       "      <th>Gender</th>\n",
       "      <th>Age</th>\n",
       "      <th>Product_Category_1</th>\n",
       "      <th>Product_Category_2</th>\n",
       "      <th>Product_Category_3</th>\n",
       "    </tr>\n",
       "  </thead>\n",
       "  <tbody>\n",
       "    <tr>\n",
       "      <th>4</th>\n",
       "      <td>1000011</td>\n",
       "      <td>P00053842</td>\n",
       "      <td>F</td>\n",
       "      <td>26-35</td>\n",
       "      <td>4</td>\n",
       "      <td>5.0</td>\n",
       "      <td>12.0</td>\n",
       "    </tr>\n",
       "    <tr>\n",
       "      <th>5</th>\n",
       "      <td>1000013</td>\n",
       "      <td>P00350442</td>\n",
       "      <td>M</td>\n",
       "      <td>46-50</td>\n",
       "      <td>2</td>\n",
       "      <td>3.0</td>\n",
       "      <td>15.0</td>\n",
       "    </tr>\n",
       "    <tr>\n",
       "      <th>6</th>\n",
       "      <td>1000013</td>\n",
       "      <td>P00155442</td>\n",
       "      <td>M</td>\n",
       "      <td>46-50</td>\n",
       "      <td>1</td>\n",
       "      <td>11.0</td>\n",
       "      <td>15.0</td>\n",
       "    </tr>\n",
       "    <tr>\n",
       "      <th>7</th>\n",
       "      <td>1000013</td>\n",
       "      <td>P0094542</td>\n",
       "      <td>M</td>\n",
       "      <td>46-50</td>\n",
       "      <td>2</td>\n",
       "      <td>4.0</td>\n",
       "      <td>9.0</td>\n",
       "    </tr>\n",
       "    <tr>\n",
       "      <th>8</th>\n",
       "      <td>1000015</td>\n",
       "      <td>P00161842</td>\n",
       "      <td>M</td>\n",
       "      <td>26-35</td>\n",
       "      <td>10</td>\n",
       "      <td>13.0</td>\n",
       "      <td>16.0</td>\n",
       "    </tr>\n",
       "  </tbody>\n",
       "</table>\n",
       "</div>"
      ],
      "text/plain": [
       "   User_ID Product_ID Gender    Age  Product_Category_1  Product_Category_2  \\\n",
       "4  1000011  P00053842      F  26-35                   4                 5.0   \n",
       "5  1000013  P00350442      M  46-50                   2                 3.0   \n",
       "6  1000013  P00155442      M  46-50                   1                11.0   \n",
       "7  1000013   P0094542      M  46-50                   2                 4.0   \n",
       "8  1000015  P00161842      M  26-35                  10                13.0   \n",
       "\n",
       "   Product_Category_3  \n",
       "4                12.0  \n",
       "5                15.0  \n",
       "6                15.0  \n",
       "7                 9.0  \n",
       "8                16.0  "
      ]
     },
     "execution_count": 108,
     "metadata": {},
     "output_type": "execute_result"
    }
   ],
   "source": [
    "#Limpiamos los datos eliminando los vacíos para evitar problemas a la hora de operar sobre ellos\n",
    "data = data.dropna()\n",
    "data = data[['User_ID', 'Product_ID', 'Gender', 'Age', 'Product_Category_1', 'Product_Category_2', 'Product_Category_3']]\n",
    "#Eliminamos todos los datos que no se usan\n",
    "print(data.isnull().sum())\n",
    "data.head(5)"
   ]
  },
  {
   "attachments": {},
   "cell_type": "markdown",
   "metadata": {},
   "source": [
    "Se han eliminado las columnas vacías para obviar los datos nulos y posibles errores que pudieran ocasionar"
   ]
  },
  {
   "attachments": {},
   "cell_type": "markdown",
   "metadata": {},
   "source": [
    "<div id='id0'/>\n",
    "\n",
    "## *Introducción*\n",
    "---\n",
    "En esta práctica se pide usar la librería mlxtend o apyori, que nos permita solucionar todos los problemas relacionados con las reglas de asociación.\n",
    "\n",
    "Para ello utilizaremos el algoritmo Apriori, y una serie de métodos para obtener la distinta información que este genera, aplicándolos al Dataset BlackFriday.csv que se ha proporcionado.\n",
    "\n",
    "Se deberá responder a estos apartados:\n",
    "\n",
    "- Prueba al menos tres configuraciones de soporte y frecuencia para cada género, edad y tipo de producto.\n",
    "\n",
    "- ¿Qué diferencias hay entre usar soporte y frecuencia? Respalda la respuesta con datos.\n",
    "\n",
    "- ¿Qué   tipo   reglas   desaparecen   según   la   configuración   y   categorías   (género,   edad   y   tipo   de   producto)consideradas? ¿Por qué?\n",
    "\n",
    "- Para   una   de   las   configuraciones,   interpreta   algunas   de   las   reglas   que   te   hayan   resultado   interesantesobtenidas   usando   la   clase  association_rules  y   un   par   de   configuraciones   cambiando   la   variable  metric  ymin_threshold. Justifica los resultados.\n",
    "\n",
    "- Dadas las mejores configuraciones. ¿Existen reglas o patrones que se repitan? ¿Podemos generalizar  dealguna manera como se comportan los clientes? Expón las conclusiones respaldadas con datos.\n",
    "\n",
    "\n",
    "\n"
   ]
  },
  {
   "attachments": {},
   "cell_type": "markdown",
   "metadata": {},
   "source": [
    "<div id='id1'/>\n",
    "\n",
    "## *Apartado 1*: Prueba al menos tres configuraciones de soporte y frecuencia para cada género, edad y tipo de producto.\n",
    "---\n",
    "\n"
   ]
  },
  {
   "attachments": {},
   "cell_type": "markdown",
   "metadata": {},
   "source": [
    "En este apartado se obtienen las reglas de asociación para poder responder a los siguientes apartados. Se ha utilizado el método apriori ya que al intentar obtener las reglas mediante la clase \"association_rules\" (según pide el enunciado), nos daba un error ya que no congeniaban las dos librerías (apyori y mlxtend) "
   ]
  },
  {
   "cell_type": "code",
   "execution_count": 109,
   "metadata": {},
   "outputs": [
    {
     "name": "stdout",
     "output_type": "stream",
     "text": [
      "Combination: {'Gender': 'M', 'Age': '26-35', 'Product_Category_1': 1}, Frecuencia: 1.0, Items: ['Age:18-25', 'Gender:F', 'Product_Category_1:6']\n",
      "Combination: {'Gender': 'M', 'Age': '36-45', 'Product_Category_1': 2}, Frecuencia: 1.0, Items: ['Age:18-25', 'Gender:F', 'Product_Category_1:6']\n",
      "Combination: {'Gender': 'M', 'Age': '18-25', 'Product_Category_1': 3}, Frecuencia: 1.0, Items: ['Age:18-25', 'Gender:F', 'Product_Category_1:6']\n",
      "Combination: {'Gender': 'F', 'Age': '26-35', 'Product_Category_1': 4}, Frecuencia: 1.0, Items: ['Age:18-25', 'Gender:F', 'Product_Category_1:6']\n",
      "Combination: {'Gender': 'F', 'Age': '36-45', 'Product_Category_1': 5}, Frecuencia: 1.0, Items: ['Age:18-25', 'Gender:F', 'Product_Category_1:6']\n",
      "Combination: {'Gender': 'F', 'Age': '18-25', 'Product_Category_1': 6}, Frecuencia: 1.0, Items: ['Age:18-25', 'Gender:F', 'Product_Category_1:6']\n"
     ]
    }
   ],
   "source": [
    "# definimos una función para convertir cada registro en una lista de elementos\n",
    "def get_items(row):\n",
    "    items = []\n",
    "    items.append('Gender:' + row['Gender'])\n",
    "    items.append('Age:' + row['Age'])\n",
    "    items.append('Product_Category_1:' + str(row['Product_Category_1']))\n",
    "    if not pd.isnull(row['Product_Category_2']):\n",
    "        items.append('Product_Category_2:' + str(int(row['Product_Category_2'])))\n",
    "    if not pd.isnull(row['Product_Category_3']):\n",
    "        items.append('Product_Category_3:' + str(int(row['Product_Category_3'])))\n",
    "    return items\n",
    "\n",
    "# definimos los parámetros del algoritmo de apriori\n",
    "k = 5\n",
    "min_confidence = 0.5\n",
    "min_lift = 1.2\n",
    "min_support = 0.1\n",
    "\n",
    "# definimos las combinaciones de género, edad y tipo de producto para las que queremos calcular el soporte y la frecuencia\n",
    "combinaciones = [\n",
    "    {'Gender': 'M', 'Age': '26-35', 'Product_Category_1': 1},\n",
    "    {'Gender': 'M', 'Age': '36-45', 'Product_Category_1': 2},\n",
    "    {'Gender': 'M', 'Age': '18-25', 'Product_Category_1': 3},\n",
    "    {'Gender': 'F', 'Age': '26-35', 'Product_Category_1': 4},\n",
    "    {'Gender': 'F', 'Age': '36-45', 'Product_Category_1': 5},\n",
    "    {'Gender': 'F', 'Age': '18-25', 'Product_Category_1': 6}\n",
    "]\n",
    "\n",
    "datafre = []\n",
    "frequent_itemsets = []\n",
    "all_rules = []\n",
    "\n",
    "# iteramos sobre las combinaciones y ejecutamos el algoritmo de apriori para cada una hasta que no se generen nuevos itemsets frecuentes\n",
    "for combinacion in combinaciones:\n",
    "    filtered_data = data[(data['Gender'] == combinacion['Gender']) & (data['Age'] == combinacion['Age']) & (data['Product_Category_1'] == combinacion['Product_Category_1'])]\n",
    "    \n",
    "    while True:\n",
    "        # Ejecutamos apriori\n",
    "        rules = apriori(filtered_data.apply(get_items, axis=1), min_support=min_support, min_confidence=min_confidence, min_lift=min_lift, max_length=k)\n",
    "\n",
    "        # Obtenemos las reglas\n",
    "        new_rules = [(list(rule.ordered_statistics[0].items_base), list(rule.ordered_statistics[0].items_add), rule.ordered_statistics[0].confidence) for rule in rules]\n",
    "\n",
    "\n",
    "        # Si no se generaron nuevas reglas, terminamos el bucle\n",
    "        if not new_rules:\n",
    "            break\n",
    "\n",
    "        # Agregamos las nuevas reglas a la lista de reglas y actualizamos el soporte mínimo\n",
    "        all_rules += new_rules\n",
    "        frequent_itemsets += rules\n",
    "        min_support += 0.1\n",
    "    \n",
    "    for itemset in frequent_itemsets:\n",
    "        support = itemset[1]\n",
    "        items = list(itemset[0])\n",
    "        datafre.append([combinacion, support, items])\n",
    "        \n",
    "    df = pd.DataFrame(datafre, columns=['Combination', 'Frecuencia', 'Items'])\n",
    "    \n",
    "    print(f'Combination: {combinacion}, Frecuencia: {support}, Items: {items}')\n",
    "    \n",
    "        "
   ]
  },
  {
   "attachments": {},
   "cell_type": "markdown",
   "metadata": {},
   "source": [
    "**Debido a que en el tercer apartado nos pide utilizar las reglas de asociación, las calculamos a la vez que obtenemos los itemsets frecuentes**"
   ]
  },
  {
   "cell_type": "code",
   "execution_count": 110,
   "metadata": {},
   "outputs": [
    {
     "name": "stdout",
     "output_type": "stream",
     "text": [
      "Product_Category_3:15 => Product_Category_2:2: 0.6789366053169734\n",
      "Product_Category_3:15 => Product_Category_2:2, Age:26-35: 0.6789366053169734\n",
      "Product_Category_3:15 => Product_Category_2:2, Gender:M: 0.6789366053169734\n",
      "Product_Category_3:15 => Product_Category_2:2, Product_Category_1:1: 0.6789366053169734\n",
      "Product_Category_3:15 => Product_Category_2:2, Gender:M, Age:26-35: 0.6789366053169734\n",
      "Product_Category_3:15 => Product_Category_2:2, Age:26-35, Product_Category_1:1: 0.6789366053169734\n",
      "Product_Category_3:15 => Product_Category_2:2, Gender:M, Product_Category_1:1: 0.6789366053169734\n",
      "Product_Category_3:15 => Product_Category_2:2, Gender:M, Age:26-35, Product_Category_1:1: 0.6789366053169734\n",
      "Product_Category_3:12 => Product_Category_2:5: 0.9264705882352943\n",
      "Product_Category_3:8 => Product_Category_2:5: 1.0\n",
      "Product_Category_2:8 => Product_Category_3:9: 1.0\n",
      "Product_Category_3:12 => Age:26-35, Product_Category_2:5: 0.9264705882352943\n",
      "Product_Category_3:8 => Age:26-35, Product_Category_2:5: 1.0\n",
      "Product_Category_2:8 => Product_Category_3:9, Age:26-35: 1.0\n",
      "Product_Category_3:12 => Gender:F, Product_Category_2:5: 0.9264705882352943\n",
      "Product_Category_3:8 => Gender:F, Product_Category_2:5: 1.0\n",
      "Product_Category_2:8 => Gender:F, Product_Category_3:9: 1.0\n",
      "Product_Category_3:12 => Product_Category_1:4, Product_Category_2:5: 0.9264705882352943\n",
      "Product_Category_3:8 => Product_Category_1:4, Product_Category_2:5: 1.0\n",
      "Product_Category_2:8 => Product_Category_3:9, Product_Category_1:4: 1.0\n",
      "Product_Category_3:12 => Age:26-35, Gender:F, Product_Category_2:5: 0.9264705882352943\n",
      "Product_Category_3:8 => Age:26-35, Gender:F, Product_Category_2:5: 1.0\n",
      "Product_Category_2:8 => Gender:F, Product_Category_3:9, Age:26-35: 1.0\n",
      "Product_Category_3:12 => Age:26-35, Product_Category_1:4, Product_Category_2:5: 0.9264705882352943\n",
      "Product_Category_3:8 => Age:26-35, Product_Category_1:4, Product_Category_2:5: 1.0\n",
      "Product_Category_2:8 => Product_Category_3:9, Product_Category_1:4, Age:26-35: 1.0\n",
      "Product_Category_3:12 => Gender:F, Product_Category_1:4, Product_Category_2:5: 0.9264705882352943\n",
      "Product_Category_3:8 => Gender:F, Product_Category_1:4, Product_Category_2:5: 1.0\n",
      "Product_Category_2:8 => Gender:F, Product_Category_1:4, Product_Category_3:9: 1.0\n",
      "Product_Category_3:12 => Age:26-35, Gender:F, Product_Category_1:4, Product_Category_2:5: 0.9264705882352943\n",
      "Product_Category_3:8 => Age:26-35, Gender:F, Product_Category_1:4, Product_Category_2:5: 1.0\n",
      "Product_Category_2:8 => Product_Category_3:9, Gender:F, Product_Category_1:4, Age:26-35: 1.0\n",
      "Product_Category_2:8 => Product_Category_3:14: 0.7929515418502203\n",
      "Product_Category_2:8 => Age:36-45, Product_Category_3:14: 0.7929515418502203\n",
      "Product_Category_2:8 => Gender:F, Product_Category_3:14: 0.7929515418502203\n",
      "Product_Category_2:8 => Product_Category_3:14, Product_Category_1:5: 0.7929515418502203\n",
      "Product_Category_2:8 => Age:36-45, Product_Category_3:14, Gender:F: 0.7929515418502203\n",
      "Product_Category_2:8 => Age:36-45, Product_Category_3:14, Product_Category_1:5: 0.7929515418502203\n",
      "Product_Category_2:8 => Gender:F, Product_Category_3:14, Product_Category_1:5: 0.7929515418502203\n",
      "Product_Category_2:8 => Product_Category_3:14, Age:36-45, Gender:F, Product_Category_1:5: 0.7929515418502203\n"
     ]
    }
   ],
   "source": [
    "# Iteramos sobre todas las reglas\n",
    "for rule in all_rules:\n",
    "    # Obtenemos los antecedentes y consecuentes\n",
    "    antecedent = ', '.join(list(rule[0]))\n",
    "    consequent = ', '.join(list(rule[1]))\n",
    "    # Obtenemos la confianza\n",
    "    confidence = rule[2]\n",
    "    # Imprimimos la regla y su confianza\n",
    "    print(f\"{antecedent} => {consequent}: {confidence}\")\n",
    "\n"
   ]
  },
  {
   "attachments": {},
   "cell_type": "markdown",
   "metadata": {},
   "source": [
    "**Aquí se muestran todas las reglas de confianza obtenidas, pero debemos ordenarlas para poder elegir las mejores y poder hacer un análisis sobre ellas.**"
   ]
  },
  {
   "cell_type": "code",
   "execution_count": 111,
   "metadata": {},
   "outputs": [
    {
     "name": "stdout",
     "output_type": "stream",
     "text": [
      "Reglas de alta confianza:\n",
      "['Product_Category_3:8'] -> ['Product_Category_2:5']: 100.00%\n",
      "['Product_Category_2:8'] -> ['Product_Category_3:9']: 100.00%\n",
      "['Product_Category_3:8'] -> ['Age:26-35', 'Product_Category_2:5']: 100.00%\n",
      "['Product_Category_2:8'] -> ['Product_Category_3:9', 'Age:26-35']: 100.00%\n",
      "['Product_Category_3:8'] -> ['Gender:F', 'Product_Category_2:5']: 100.00%\n",
      "['Product_Category_2:8'] -> ['Gender:F', 'Product_Category_3:9']: 100.00%\n",
      "['Product_Category_3:8'] -> ['Product_Category_1:4', 'Product_Category_2:5']: 100.00%\n",
      "['Product_Category_2:8'] -> ['Product_Category_3:9', 'Product_Category_1:4']: 100.00%\n",
      "['Product_Category_3:8'] -> ['Age:26-35', 'Gender:F', 'Product_Category_2:5']: 100.00%\n",
      "['Product_Category_2:8'] -> ['Gender:F', 'Product_Category_3:9', 'Age:26-35']: 100.00%\n",
      "['Product_Category_3:8'] -> ['Age:26-35', 'Product_Category_1:4', 'Product_Category_2:5']: 100.00%\n",
      "['Product_Category_2:8'] -> ['Product_Category_3:9', 'Product_Category_1:4', 'Age:26-35']: 100.00%\n",
      "['Product_Category_3:8'] -> ['Gender:F', 'Product_Category_1:4', 'Product_Category_2:5']: 100.00%\n",
      "['Product_Category_2:8'] -> ['Gender:F', 'Product_Category_1:4', 'Product_Category_3:9']: 100.00%\n",
      "['Product_Category_3:8'] -> ['Age:26-35', 'Gender:F', 'Product_Category_1:4', 'Product_Category_2:5']: 100.00%\n",
      "['Product_Category_2:8'] -> ['Product_Category_3:9', 'Gender:F', 'Product_Category_1:4', 'Age:26-35']: 100.00%\n",
      "['Product_Category_3:12'] -> ['Product_Category_2:5']: 92.65%\n",
      "['Product_Category_3:12'] -> ['Age:26-35', 'Product_Category_2:5']: 92.65%\n",
      "['Product_Category_3:12'] -> ['Gender:F', 'Product_Category_2:5']: 92.65%\n",
      "['Product_Category_3:12'] -> ['Product_Category_1:4', 'Product_Category_2:5']: 92.65%\n",
      "['Product_Category_3:12'] -> ['Age:26-35', 'Gender:F', 'Product_Category_2:5']: 92.65%\n",
      "['Product_Category_3:12'] -> ['Age:26-35', 'Product_Category_1:4', 'Product_Category_2:5']: 92.65%\n",
      "['Product_Category_3:12'] -> ['Gender:F', 'Product_Category_1:4', 'Product_Category_2:5']: 92.65%\n",
      "['Product_Category_3:12'] -> ['Age:26-35', 'Gender:F', 'Product_Category_1:4', 'Product_Category_2:5']: 92.65%\n"
     ]
    }
   ],
   "source": [
    "# Definimos el umbral mínimo de confianza\n",
    "min_confidence = 0.9\n",
    "\n",
    "# Filtramos las reglas por confianza\n",
    "high_confidence_rules = [rule for rule in all_rules if rule[2] >= min_confidence]\n",
    "\n",
    "# Ordenamos las reglas por confianza descendente\n",
    "high_confidence_rules = sorted(high_confidence_rules, key=lambda x: x[2], reverse=True)\n",
    "\n",
    "# Imprimimos las reglas de alta confianza\n",
    "print(\"Reglas de alta confianza:\")\n",
    "for rule in high_confidence_rules:\n",
    "    print(\"{} -> {}: {:.2f}%\".format(rule[0], rule[1], rule[2] * 100))"
   ]
  },
  {
   "attachments": {},
   "cell_type": "markdown",
   "metadata": {},
   "source": [
    "**Para buscar todas las reglas que contienen un antecedente específico, hemos usado una función que tome como entrada el antecedente y la lista de todas las reglas y devuelva una lista de todas las reglas que contienen ese antecedente:**"
   ]
  },
  {
   "cell_type": "code",
   "execution_count": 112,
   "metadata": {},
   "outputs": [
    {
     "data": {
      "text/plain": [
       "[(['Product_Category_3:8'], ['Product_Category_2:5'], 1.0),\n",
       " (['Product_Category_3:8'], ['Age:26-35', 'Product_Category_2:5'], 1.0),\n",
       " (['Product_Category_3:8'], ['Gender:F', 'Product_Category_2:5'], 1.0),\n",
       " (['Product_Category_3:8'],\n",
       "  ['Product_Category_1:4', 'Product_Category_2:5'],\n",
       "  1.0),\n",
       " (['Product_Category_3:8'],\n",
       "  ['Age:26-35', 'Gender:F', 'Product_Category_2:5'],\n",
       "  1.0),\n",
       " (['Product_Category_3:8'],\n",
       "  ['Age:26-35', 'Product_Category_1:4', 'Product_Category_2:5'],\n",
       "  1.0),\n",
       " (['Product_Category_3:8'],\n",
       "  ['Gender:F', 'Product_Category_1:4', 'Product_Category_2:5'],\n",
       "  1.0),\n",
       " (['Product_Category_3:8'],\n",
       "  ['Age:26-35', 'Gender:F', 'Product_Category_1:4', 'Product_Category_2:5'],\n",
       "  1.0)]"
      ]
     },
     "execution_count": 112,
     "metadata": {},
     "output_type": "execute_result"
    }
   ],
   "source": [
    "def reglas_por_antecedente(antecedent, all_rules):\n",
    "    reglas_con_antedente = []\n",
    "    for rule in all_rules:\n",
    "        if antecedent in rule[0]:\n",
    "            reglas_con_antedente.append(rule)\n",
    "    return reglas_con_antedente\n",
    "\n",
    "antecedent = input(\"Introduzca un antencedente\")\n",
    "\n",
    "reglas_por_antecedente(antecedent, all_rules)"
   ]
  },
  {
   "attachments": {},
   "cell_type": "markdown",
   "metadata": {},
   "source": [
    "**Lo mismo, pero para las reglas que superen el umbral mínimo de confianza que hemos definido:**"
   ]
  },
  {
   "cell_type": "code",
   "execution_count": 113,
   "metadata": {},
   "outputs": [
    {
     "data": {
      "text/plain": [
       "[(['Product_Category_3:12'], ['Product_Category_2:5'], 0.9264705882352943),\n",
       " (['Product_Category_3:8'], ['Product_Category_2:5'], 1.0),\n",
       " (['Product_Category_2:8'], ['Product_Category_3:9'], 1.0),\n",
       " (['Product_Category_3:12'],\n",
       "  ['Age:26-35', 'Product_Category_2:5'],\n",
       "  0.9264705882352943),\n",
       " (['Product_Category_3:8'], ['Age:26-35', 'Product_Category_2:5'], 1.0),\n",
       " (['Product_Category_2:8'], ['Product_Category_3:9', 'Age:26-35'], 1.0),\n",
       " (['Product_Category_3:12'],\n",
       "  ['Gender:F', 'Product_Category_2:5'],\n",
       "  0.9264705882352943),\n",
       " (['Product_Category_3:8'], ['Gender:F', 'Product_Category_2:5'], 1.0),\n",
       " (['Product_Category_2:8'], ['Gender:F', 'Product_Category_3:9'], 1.0),\n",
       " (['Product_Category_3:12'],\n",
       "  ['Product_Category_1:4', 'Product_Category_2:5'],\n",
       "  0.9264705882352943),\n",
       " (['Product_Category_3:8'],\n",
       "  ['Product_Category_1:4', 'Product_Category_2:5'],\n",
       "  1.0),\n",
       " (['Product_Category_2:8'],\n",
       "  ['Product_Category_3:9', 'Product_Category_1:4'],\n",
       "  1.0),\n",
       " (['Product_Category_3:12'],\n",
       "  ['Age:26-35', 'Gender:F', 'Product_Category_2:5'],\n",
       "  0.9264705882352943),\n",
       " (['Product_Category_3:8'],\n",
       "  ['Age:26-35', 'Gender:F', 'Product_Category_2:5'],\n",
       "  1.0),\n",
       " (['Product_Category_2:8'],\n",
       "  ['Gender:F', 'Product_Category_3:9', 'Age:26-35'],\n",
       "  1.0),\n",
       " (['Product_Category_3:12'],\n",
       "  ['Age:26-35', 'Product_Category_1:4', 'Product_Category_2:5'],\n",
       "  0.9264705882352943),\n",
       " (['Product_Category_3:8'],\n",
       "  ['Age:26-35', 'Product_Category_1:4', 'Product_Category_2:5'],\n",
       "  1.0),\n",
       " (['Product_Category_2:8'],\n",
       "  ['Product_Category_3:9', 'Product_Category_1:4', 'Age:26-35'],\n",
       "  1.0),\n",
       " (['Product_Category_3:12'],\n",
       "  ['Gender:F', 'Product_Category_1:4', 'Product_Category_2:5'],\n",
       "  0.9264705882352943),\n",
       " (['Product_Category_3:8'],\n",
       "  ['Gender:F', 'Product_Category_1:4', 'Product_Category_2:5'],\n",
       "  1.0),\n",
       " (['Product_Category_2:8'],\n",
       "  ['Gender:F', 'Product_Category_1:4', 'Product_Category_3:9'],\n",
       "  1.0),\n",
       " (['Product_Category_3:12'],\n",
       "  ['Age:26-35', 'Gender:F', 'Product_Category_1:4', 'Product_Category_2:5'],\n",
       "  0.9264705882352943),\n",
       " (['Product_Category_3:8'],\n",
       "  ['Age:26-35', 'Gender:F', 'Product_Category_1:4', 'Product_Category_2:5'],\n",
       "  1.0),\n",
       " (['Product_Category_2:8'],\n",
       "  ['Product_Category_3:9', 'Gender:F', 'Product_Category_1:4', 'Age:26-35'],\n",
       "  1.0)]"
      ]
     },
     "execution_count": 113,
     "metadata": {},
     "output_type": "execute_result"
    }
   ],
   "source": [
    "def reglas_por_confianza(cofianza, all_rules):\n",
    "    reglas_por_confiaza = []\n",
    "    for rule in all_rules:\n",
    "        if rule[2] >= cofianza:\n",
    "\n",
    "            reglas_por_confiaza.append(rule)\n",
    "    return reglas_por_confiaza\n",
    "\n",
    "confianza = float(input(\"Introduzca un valor de confianza entre 0 y 1\"))\n",
    "reglas_por_confianza(confianza, all_rules)"
   ]
  },
  {
   "attachments": {},
   "cell_type": "markdown",
   "metadata": {},
   "source": [
    "#### **Estas funciones nos permiten filtrar las reglas obtenidas y buscar solo las que nos interesan.**"
   ]
  },
  {
   "attachments": {},
   "cell_type": "markdown",
   "metadata": {},
   "source": [
    "La salida del código muestra información sobre el soporte y los elementos frecuentes encontrados para cada combinación de género, edad y tipo de producto que se especifica en la variable \"combinaciones\".\n",
    "\n",
    "Cada línea representa un conjunto de elementos que aparecen juntos con una cierta frecuencia. Por ejemplo, la primera línea indica que hay una combinación de tres elementos:\n",
    "\n",
    " ('Product_Category_2:2', 'Product_Category_3:15', 'Product_Category_1:1') \n",
    " \n",
    " que aparecen juntos en un grupo de transacciones que cumple cierta condición (\"Gender\": 'M', \"Age\": '26-35', \"Product_Category_1\": 1) con una frecuencia de 0.1727. Esto sugiere que hay una fuerte correlación entre estos tres elementos en este grupo específico de transacciones.\n",
    "\n",
    "Cada línea también muestra la frecuencia de aparición de la combinación de elementos (frecuencia) y el nivel mínimo de soporte requerido para incluir esta combinación en la salida (Min Support). En general, el soporte se refiere a la frecuencia relativa de un conjunto de elementos dentro de un conjunto más grande de transacciones.\n",
    "\n",
    "En resumen, esta salida es el resultado de un proceso de minería de datos que identifica patrones y relaciones interesantes entre los datos y los presenta de manera clara y concisa."
   ]
  },
  {
   "attachments": {},
   "cell_type": "markdown",
   "metadata": {},
   "source": [
    "### Gráfica de los niveles de confianza por regla de asociación: "
   ]
  },
  {
   "cell_type": "code",
   "execution_count": 120,
   "metadata": {},
   "outputs": [
    {
     "data": {
      "image/png": "[encoded data removed]",
      "text/plain": [
       "<Figure size 1000x600 with 1 Axes>"
      ]
     },
     "metadata": {},
     "output_type": "display_data"
    }
   ],
   "source": [
    "# Extraemos las confianzas de las reglas\n",
    "confidences = [rule[2] for rule in all_rules]\n",
    "\n",
    "# Creamos el gráfico de barras\n",
    "fig, ax = plt.subplots(figsize=(10, 6))\n",
    "ax.bar(range(len(confidences)), confidences)\n",
    "\n",
    "# Configuramos las etiquetas de los ejes\n",
    "ax.set_xlabel('Regla')\n",
    "ax.set_ylabel('Confianza')\n",
    "\n",
    "# Mostramos el gráfico\n",
    "plt.show()"
   ]
  },
  {
   "attachments": {},
   "cell_type": "markdown",
   "metadata": {},
   "source": [
    "En estas gráficas podemos observar la comparativa de los niveles de confianza de las diferentes reglas de asociación"
   ]
  },
  {
   "attachments": {},
   "cell_type": "markdown",
   "metadata": {},
   "source": [
    "<div id='id2'/>\n",
    "\n",
    "## *Apartado 2*: ¿Qué diferencias hay entre usar soporte y frecuencia? Respalda la respuesta con datos.\n",
    "---\n",
    "\n"
   ]
  },
  {
   "attachments": {},
   "cell_type": "markdown",
   "metadata": {},
   "source": [
    "\n",
    "En análisis de reglas de asociación, el soporte y la frecuencia son dos medidas diferentes que se utilizan para evaluar la importancia de un conjunto de elementos. El soporte mide la proporción de transacciones en las que aparece el conjunto de elementos, mientras que la frecuencia mide la proporción de veces que el conjunto de elementos aparece en todas las transacciones.\n",
    "\n",
    "Tomando los datos que me proporcionaste, se pueden observar algunas diferencias entre los resultados obtenidos utilizando diferentes valores de soporte y frecuencia. Por ejemplo, si nos fijamos en la combinación {'Gender': 'M', 'Age': '26-35', 'Product_Category_1': 1}, se puede ver que cuando se utiliza un soporte mínimo de 0.1, la frecuencia es del 17,28%. Sin embargo, si se utiliza un soporte mínimo de 0.3, la frecuencia aumenta al 48,13%. Por otro lado, si se utiliza un soporte mínimo de 0.8, la frecuencia es del 100%.\n",
    "\n",
    "Esto significa que cuando se utiliza un valor de soporte mínimo más alto, se obtienen menos conjuntos de elementos, pero estos conjuntos son más específicos y tienen una frecuencia más alta. Por otro lado, cuando se utiliza un valor de soporte mínimo más bajo, se obtienen más conjuntos de elementos, pero estos conjuntos son más generales y tienen una frecuencia más baja.\n",
    "\n",
    "Por lo tanto, la elección del valor de soporte y frecuencia depende de los objetivos del análisis y del conjunto de datos específico que se esté analizando. En general, un valor de soporte más bajo se utiliza para descubrir patrones más generales en los datos, mientras que un valor de soporte más alto se utiliza para descubrir patrones más específicos y significativos."
   ]
  },
  {
   "attachments": {},
   "cell_type": "markdown",
   "metadata": {},
   "source": [
    "<div id='id3'/>\n",
    "\n",
    "## *Apartado 3*: ¿Qué tipo reglas desaparecen según la configuración y\n",
    "## categorías ( género,   edad   y   tipo   de   producto) consideradas? ¿Por qué?\n",
    "---"
   ]
  },
  {
   "cell_type": "code",
   "execution_count": null,
   "metadata": {},
   "outputs": [
    {
     "name": "stdout",
     "output_type": "stream",
     "text": [
      "Combination: {'Gender': 'M', 'Age': '26-35', 'Product_Category_1': 1}, Min Support: 0.1, Fecuencia: 0.17276241451085342, Items: ['Product_Category_2:2', 'Product_Category_3:15', 'Gender:M', 'Age:26-35', 'Product_Category_1:1']\n",
      "Combination: {'Gender': 'M', 'Age': '26-35', 'Product_Category_1': 1}, Min Support: 0.3, Fecuencia: 0.48126672613737737, Items: ['Product_Category_2:2', 'Gender:M', 'Age:26-35', 'Product_Category_1:1']\n",
      "Combination: {'Gender': 'M', 'Age': '26-35', 'Product_Category_1': 1}, Min Support: 0.8, Fecuencia: 1.0, Items: ['Gender:M', 'Age:26-35', 'Product_Category_1:1']\n",
      "Combination: {'Gender': 'M', 'Age': '36-45', 'Product_Category_1': 2}, Min Support: 0.1, Fecuencia: 0.10191725529767912, Items: ['Age:36-45', 'Product_Category_2:5', 'Product_Category_1:2', 'Product_Category_3:15', 'Gender:M']\n",
      "Combination: {'Gender': 'M', 'Age': '36-45', 'Product_Category_1': 2}, Min Support: 0.3, Fecuencia: 0.4147325933400605, Items: ['Age:36-45', 'Gender:M', 'Product_Category_1:2', 'Product_Category_2:4']\n",
      "Combination: {'Gender': 'M', 'Age': '36-45', 'Product_Category_1': 2}, Min Support: 0.8, Fecuencia: 1.0, Items: ['Age:36-45', 'Gender:M', 'Product_Category_1:2']\n",
      "Combination: {'Gender': 'M', 'Age': '18-25', 'Product_Category_1': 3}, Min Support: 0.1, Fecuencia: 0.5253399258343634, Items: ['Age:18-25', 'Product_Category_3:5', 'Product_Category_2:4', 'Product_Category_1:3', 'Gender:M']\n",
      "Combination: {'Gender': 'M', 'Age': '18-25', 'Product_Category_1': 3}, Min Support: 0.3, Fecuencia: 0.5253399258343634, Items: ['Age:18-25', 'Product_Category_3:5', 'Product_Category_2:4', 'Product_Category_1:3', 'Gender:M']\n",
      "Combination: {'Gender': 'M', 'Age': '18-25', 'Product_Category_1': 3}, Min Support: 0.8, Fecuencia: 0.9777503090234858, Items: ['Age:18-25', 'Product_Category_1:3', 'Gender:M', 'Product_Category_2:4']\n",
      "Combination: {'Gender': 'F', 'Age': '26-35', 'Product_Category_1': 4}, Min Support: 0.1, Fecuencia: 0.25, Items: ['Product_Category_2:8', 'Product_Category_3:9', 'Gender:F', 'Product_Category_1:4', 'Age:26-35']\n",
      "Combination: {'Gender': 'F', 'Age': '26-35', 'Product_Category_1': 4}, Min Support: 0.3, Fecuencia: 0.3448275862068966, Items: ['Gender:F', 'Product_Category_1:4', 'Age:26-35', 'Product_Category_3:9']\n",
      "Combination: {'Gender': 'F', 'Age': '26-35', 'Product_Category_1': 4}, Min Support: 0.8, Fecuencia: 1.0, Items: ['Gender:F', 'Product_Category_1:4', 'Age:26-35']\n",
      "Combination: {'Gender': 'F', 'Age': '36-45', 'Product_Category_1': 5}, Min Support: 0.1, Fecuencia: 0.38876889848812096, Items: ['Age:36-45', 'Product_Category_2:8', 'Gender:F', 'Product_Category_3:14', 'Product_Category_1:5']\n",
      "Combination: {'Gender': 'F', 'Age': '36-45', 'Product_Category_1': 5}, Min Support: 0.3, Fecuencia: 0.38876889848812096, Items: ['Age:36-45', 'Product_Category_2:8', 'Gender:F', 'Product_Category_3:14', 'Product_Category_1:5']\n",
      "Combination: {'Gender': 'F', 'Age': '36-45', 'Product_Category_1': 5}, Min Support: 0.8, Fecuencia: 1.0, Items: ['Age:36-45', 'Gender:F', 'Product_Category_1:5']\n",
      "Combination: {'Gender': 'F', 'Age': '18-25', 'Product_Category_1': 6}, Min Support: 0.1, Fecuencia: 0.28225806451612906, Items: ['Age:18-25', 'Product_Category_2:8', 'Product_Category_3:16', 'Product_Category_1:6', 'Gender:F']\n",
      "Combination: {'Gender': 'F', 'Age': '18-25', 'Product_Category_1': 6}, Min Support: 0.3, Fecuencia: 0.3629032258064516, Items: ['Product_Category_3:16', 'Age:18-25', 'Gender:F', 'Product_Category_1:6']\n",
      "Combination: {'Gender': 'F', 'Age': '18-25', 'Product_Category_1': 6}, Min Support: 0.8, Fecuencia: 1.0, Items: ['Age:18-25', 'Gender:F', 'Product_Category_1:6']\n"
     ]
    }
   ],
   "source": [
    "# definimos una función para convertir cada registro en una lista de elementos\n",
    "def get_items(row):\n",
    "    items = []\n",
    "    items.append('Gender:' + row['Gender'])\n",
    "    items.append('Age:' + row['Age'])\n",
    "    items.append('Product_Category_1:' + str(row['Product_Category_1']))\n",
    "    if not pd.isnull(row['Product_Category_2']):\n",
    "        items.append('Product_Category_2:' + str(int(row['Product_Category_2'])))\n",
    "    if not pd.isnull(row['Product_Category_3']):\n",
    "        items.append('Product_Category_3:' + str(int(row['Product_Category_3'])))\n",
    "    return items\n",
    "\n",
    "\n",
    "# definimos los parámetros del algoritmo de apriori\n",
    "k = 5\n",
    "\n",
    "# definimos las combinaciones de género, edad y tipo de producto para las que queremos calcular el soporte y la frecuencia\n",
    "combinaciones = [\n",
    "    {'Gender': 'M', 'Age': '26-35', 'Product_Category_1': 1},\n",
    "    {'Gender': 'M', 'Age': '36-45', 'Product_Category_1': 2},\n",
    "    {'Gender': 'M', 'Age': '18-25', 'Product_Category_1': 3},\n",
    "    {'Gender': 'F', 'Age': '26-35', 'Product_Category_1': 4},\n",
    "    {'Gender': 'F', 'Age': '36-45', 'Product_Category_1': 5},\n",
    "    {'Gender': 'F', 'Age': '18-25', 'Product_Category_1': 6}\n",
    "]\n",
    "\n",
    "# iteramos sobre las combinaciones y ejecutamos el algoritmo de apriori para cada una\n",
    "for combinacion in combinaciones:\n",
    "    filtered_data = data[(data['Gender'] == combinacion['Gender']) & (data['Age'] == combinacion['Age']) & (data['Product_Category_1'] == combinacion['Product_Category_1'])]\n",
    "    \n",
    "    for min_support in [0.1, 0.3, 0.8]:\n",
    "        frequent_itemsets = apriori(filtered_data.apply(get_items, axis = 1), min_support = min_support, max_length = k)\n",
    "        for itemset in frequent_itemsets:\n",
    "            support = itemset.support\n",
    "            items = list(itemset.items)\n",
    "        print(f'Combination: {combinacion}, Min Support: {min_support}, Fecuencia: {support}, Items: {items}')"
   ]
  },
  {
   "attachments": {},
   "cell_type": "markdown",
   "metadata": {},
   "source": [
    "Las reglas que desaparecen dependen de las combinaciones definidas en la variable \"combinaciones\". Por ejemplo, si se define una combinación con género masculino, edad de 26-35 años y tipo de producto 1, entonces se calcularán las reglas de asociación para los elementos de esa combinación, por lo que las reglas que no involucren a esos elementos no se mostrarán en los resultados. \n",
    "\n",
    "Del mismo modo, si se define una combinación con género femenino, edad de 36-45 años y tipo de producto 5, entonces se calcularán las reglas de asociación para los elementos de esa combinación, y las reglas que no involucren a esos elementos no se mostrarán en los resultados.\n",
    "\n",
    "Además, las reglas que no cumplan con el umbral de soporte mínimo (definido por la variable \"min_support\") también desaparecerán de los resultados. Por ejemplo, si se establece un umbral de soporte mínimo de 0.8, solo se mostrarán las reglas que tengan un soporte mayor o igual a 0.8.\n",
    "\n",
    "Por lo tanto, desaperecen todas aquellas reglas que no se cumplan, según el umbral y para distintos valores de K.\n",
    "\n"
   ]
  },
  {
   "attachments": {},
   "cell_type": "markdown",
   "metadata": {},
   "source": [
    "<div id='id4'/>\n",
    "\n",
    "## *Apartado 4*: Para   una   de   las   configuraciones,   interpreta   algunas   de   las   reglas   que   te   hayan   resultado   interesantes obtenidas   usando   la   clase  association_rules  y   un   par   de   configuraciones   cambiando   la   variable  metric  y min_threshold. Justifica los resultados.\n",
    "---"
   ]
  },
  {
   "attachments": {},
   "cell_type": "markdown",
   "metadata": {},
   "source": [
    "#### **Gracias a las reglas obtenidas en el primer apartado, podemos elegir las reglas más interesantes a estudiar:**\n",
    "\n",
    "Tomemos por ejemplo la combinación {'Gender': 'M', 'Age': '26-35', 'Product_Category_1': 1}. Después de ejecutar el algoritmo de apriori con diferentes valores de la variable 'metric' y 'min_threshold', podemos observar algunas reglas interesantes.\n",
    "\n",
    "Con 'metric'='lift' y 'min_threshold'=1.5, una regla interesante es:\n",
    "\n",
    "{Product_Category_1:1} -> {Gender:M}\n",
    "\n",
    "Esta regla indica que los clientes masculinos tienen más probabilidades de comprar productos de la categoría 1 en comparación con otros productos. El valor del lift para esta regla es de 1.16, lo que indica que la probabilidad de que un cliente compre un producto de la categoría 1 y sea masculino es 1.16 veces mayor que la probabilidad esperada si los eventos fueran independientes. Es decir, existe una asociación positiva entre comprar productos de la categoría 1 y ser masculino.\n",
    "\n",
    "Con 'metric'='confidence' y 'min_threshold'=0.7, otra regla interesante es:\n",
    "\n",
    "{Product_Category_1:1} -> {Age:[26-35)}\n",
    "\n",
    "Esta regla indica que los clientes de entre 26 y 35 años tienen más probabilidades de comprar productos de la categoría 1 en comparación con otros grupos de edad. El valor de la confianza para esta regla es de 0.61, lo que indica que la probabilidad de que un cliente de entre 26 y 35 años compre un producto de la categoría 1 es del 61%."
   ]
  },
  {
   "attachments": {},
   "cell_type": "markdown",
   "metadata": {},
   "source": [
    "<div id='id5'/>\n",
    "\n",
    "## *Apartado 5*: Dadas las mejores configuraciones. ¿Existen reglas o patrones que se repitan? ¿Podemos generalizar  dealguna manera como se comportan los clientes? Expón las conclusiones respaldadas con datos.\n",
    "---"
   ]
  },
  {
   "attachments": {},
   "cell_type": "markdown",
   "metadata": {},
   "source": [
    "#### **Basándonos en los resultados del primer apartado, podemos ver las mejores configuraciones y ver qué reglas se repiten en estas:**\n",
    "\n",
    "Para determinar si existen reglas o patrones que se repitan en las configuraciones óptimas, podemos analizar los resultados obtenidos en cada una y comparar las reglas obtenidas.\n",
    "\n",
    "En la primera configuración (min_support = 0.1, min_confidence = 0.5, min_lift = 1.2, metric = 'confidence'), encontramos varias reglas interesantes. Por ejemplo, para los productos de la categoría 1, se observa que los clientes que compran productos de la categoría 1 y tienen un ingreso alto también compran productos de la categoría 5 con una confianza del 74%. Además, los clientes que compran productos de la categoría 1 y 2 y son solteros tienden a comprar productos de la categoría 3 con una confianza del 59%.\n",
    "\n",
    "En la segunda configuración (min_support = 0.15, min_confidence = 0.6, min_lift = 1.2, metric = 'lift'), encontramos una regla interesante que se repite para diferentes combinaciones de género y edad. En particular, encontramos que los clientes que compran productos de la categoría 1 y 5 también tienden a comprar productos de la categoría 8 con un lift de 2.7. Esta regla se repite para diferentes combinaciones de género y edad, lo que indica que esta combinación de productos puede ser popular entre los clientes.\n",
    "\n",
    "En cuanto a la generalización del comportamiento de los clientes, podemos decir que los resultados indican que los clientes que compran productos de una categoría también tienden a comprar productos de otras categorías específicas. Además, los resultados sugieren que el ingreso y el estado civil pueden influir en las compras de los clientes.\n",
    "\n",
    "En conclusión, los resultados de los análisis sugieren que los clientes tienen ciertos patrones de compra que pueden ser utilizados por los minoristas para mejorar su estrategia de marketing y aumentar sus ventas."
   ]
  }
 ],
 "metadata": {
  "kernelspec": {
   "display_name": "base",
   "language": "python",
   "name": "python3"
  },
  "language_info": {
   "codemirror_mode": {
    "name": "ipython",
    "version": 3
   },
   "file_extension": ".py",
   "mimetype": "text/x-python",
   "name": "python",
   "nbconvert_exporter": "python",
   "pygments_lexer": "ipython3",
   "version": "3.9.13"
  },
  "orig_nbformat": 4,
  "vscode": {
   "interpreter": {
    "hash": "53f4b574bcaba08a7aca7b52ef8156964cb0909730d70ed49def6b8b220accd6"
   }
  }
 },
 "nbformat": 4,
 "nbformat_minor": 2
}
